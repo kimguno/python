{
 "cells": [
  {
   "cell_type": "code",
   "execution_count": 8,
   "metadata": {},
   "outputs": [
    {
     "name": "stdout",
     "output_type": "stream",
     "text": [
      "{'name': 'hong', 'birth': '1590', 'phone': '1234'}\n",
      "{'name': 'hong', 'birth': '1590'}\n"
     ]
    }
   ],
   "source": [
    "## 딕셔너리에 쌍 추가, 삭제\n",
    "#  1. 추가\n",
    "a = {}\n",
    "a['name'] = 'hong'\n",
    "a['birth'] = '1590'\n",
    "a['phone'] = '1234'\n",
    "print(a)\n",
    "\n",
    "# 삭제\n",
    "del a['phone']\n",
    "print(a)"
   ]
  },
  {
   "cell_type": "code",
   "execution_count": 10,
   "metadata": {},
   "outputs": [
    {
     "name": "stdout",
     "output_type": "stream",
     "text": [
      "{'1234': {'name': '김동준', 'phone': '1234', 'addr': '강남', 'gubun': '친구'}, '234': {'name': '기모찌', 'phone': '1234', 'addr': '개붕싱', 'gubun': '친구'}}\n"
     ]
    }
   ],
   "source": [
    "contact = {\n",
    "    '1234' :{\n",
    "        'name' : '김동준',\n",
    "        'phone' : '1234',\n",
    "        'addr' : '강남',\n",
    "        'gubun' : '친구'\n",
    "    },\n",
    "    '234' :{\n",
    "        'name' : '기모찌',\n",
    "        'phone' : '1234',\n",
    "        'addr' : '개붕싱',\n",
    "        'gubun' : '친구'\n",
    "    },\n",
    "    \n",
    "}\n",
    "print(contact)"
   ]
  },
  {
   "cell_type": "code",
   "execution_count": 19,
   "metadata": {},
   "outputs": [
    {
     "name": "stdout",
     "output_type": "stream",
     "text": [
      "강남\n",
      "{'name': '김동준', 'phone': '1234', 'addr': '강남', 'gubun': '친구'}\n"
     ]
    }
   ],
   "source": [
    "# 홍길동 주소\n",
    "print(contact['1234']['addr'])\n",
    "# '1234'\n",
    "print(contact['1234'])\n",
    "\n"
   ]
  },
  {
   "cell_type": "code",
   "execution_count": 21,
   "metadata": {},
   "outputs": [
    {
     "data": {
      "text/plain": [
       "['__class__',\n",
       " '__class_getitem__',\n",
       " '__contains__',\n",
       " '__delattr__',\n",
       " '__delitem__',\n",
       " '__dir__',\n",
       " '__doc__',\n",
       " '__eq__',\n",
       " '__format__',\n",
       " '__ge__',\n",
       " '__getattribute__',\n",
       " '__getitem__',\n",
       " '__gt__',\n",
       " '__hash__',\n",
       " '__init__',\n",
       " '__init_subclass__',\n",
       " '__ior__',\n",
       " '__iter__',\n",
       " '__le__',\n",
       " '__len__',\n",
       " '__lt__',\n",
       " '__ne__',\n",
       " '__new__',\n",
       " '__or__',\n",
       " '__reduce__',\n",
       " '__reduce_ex__',\n",
       " '__repr__',\n",
       " '__reversed__',\n",
       " '__ror__',\n",
       " '__setattr__',\n",
       " '__setitem__',\n",
       " '__sizeof__',\n",
       " '__str__',\n",
       " '__subclasshook__',\n",
       " 'clear',\n",
       " 'copy',\n",
       " 'fromkeys',\n",
       " 'get',\n",
       " 'items',\n",
       " 'keys',\n",
       " 'pop',\n",
       " 'popitem',\n",
       " 'setdefault',\n",
       " 'update',\n",
       " 'values']"
      ]
     },
     "execution_count": 21,
     "metadata": {},
     "output_type": "execute_result"
    }
   ],
   "source": [
    "###################################\n",
    "# 딕셔너리 관련 메소드\n",
    "###################################\n",
    "\n",
    "dir(a)"
   ]
  },
  {
   "cell_type": "code",
   "execution_count": 25,
   "metadata": {},
   "outputs": [
    {
     "name": "stdout",
     "output_type": "stream",
     "text": [
      "{'name': 'pey', 'phone': '1234', 'birth': '1118'}\n",
      "dict_keys(['name', 'phone', 'birth'])\n",
      "name\n",
      "phone\n",
      "birth\n"
     ]
    }
   ],
   "source": [
    "# key 추출\n",
    "a = {\n",
    "    'name':'pey',\n",
    "    'phone':'1234',\n",
    "    'birth':'1118'\n",
    "    \n",
    "}\n",
    "print(a)\n",
    "print(a.keys())\n",
    "\n",
    "for k in a.keys():\n",
    "    print(k)"
   ]
  },
  {
   "cell_type": "code",
   "execution_count": 31,
   "metadata": {},
   "outputs": [
    {
     "name": "stdout",
     "output_type": "stream",
     "text": [
      "{'name': 'pey', 'phone': '1234', 'birth': '1118'}\n",
      "dict_values(['pey', '1234', '1118'])\n",
      "pey\n",
      "1234\n",
      "1118\n"
     ]
    },
    {
     "data": {
      "text/plain": [
       "dict_values(['pey', '1234', '1118'])"
      ]
     },
     "execution_count": 31,
     "metadata": {},
     "output_type": "execute_result"
    }
   ],
   "source": [
    "# value\n",
    "print(a)\n",
    "print(a.values())\n",
    "\n",
    "for k in a.values():\n",
    "    print(k)\n",
    "\n",
    "\n",
    "\n",
    "a.values()"
   ]
  },
  {
   "cell_type": "code",
   "execution_count": 39,
   "metadata": {},
   "outputs": [
    {
     "name": "stdout",
     "output_type": "stream",
     "text": [
      "{'name': 'pey', 'phone': '1234', 'birth': '1118'}\n",
      "dict_items([('name', 'pey'), ('phone', '1234'), ('birth', '1118')])\n",
      "('name', 'pey')\n",
      "name\n",
      "pey\n",
      "('phone', '1234')\n",
      "phone\n",
      "1234\n",
      "('birth', '1118')\n",
      "birth\n",
      "1118\n"
     ]
    }
   ],
   "source": [
    "print(a)\n",
    "print(a.items())\n",
    "\n",
    "for k in a.items():\n",
    "    print(k)\n",
    "    print(k[0])\n",
    "    print(k[1])"
   ]
  },
  {
   "cell_type": "code",
   "execution_count": 42,
   "metadata": {},
   "outputs": [
    {
     "name": "stdout",
     "output_type": "stream",
     "text": [
      "{'name': 'pey', 'phone': '1234', 'birth': '1118'}\n",
      "pey\n",
      "None\n"
     ]
    }
   ],
   "source": [
    "# value 얻기 : get(key)\n",
    "print(a)\n",
    "print(a.get('name'))\n",
    "print(a.get('aaa')) # aaa key 없다 => value : None 나온다"
   ]
  },
  {
   "cell_type": "code",
   "execution_count": 45,
   "metadata": {},
   "outputs": [
    {
     "name": "stdout",
     "output_type": "stream",
     "text": [
      "{'name': 'pey', 'phone': '1234', 'birth': '1118'}\n",
      "True\n",
      "False\n"
     ]
    }
   ],
   "source": [
    "# 내용 확인 : in 연산자\n",
    "print(a)\n",
    "print('name' in a )# a 딕셔너리에 name 키 존재 여부 확인\n",
    "print('email' in a)"
   ]
  }
 ],
 "metadata": {
  "kernelspec": {
   "display_name": "test",
   "language": "python",
   "name": "python3"
  },
  "language_info": {
   "codemirror_mode": {
    "name": "ipython",
    "version": 3
   },
   "file_extension": ".py",
   "mimetype": "text/x-python",
   "name": "python",
   "nbconvert_exporter": "python",
   "pygments_lexer": "ipython3",
   "version": "3.10.14"
  }
 },
 "nbformat": 4,
 "nbformat_minor": 2
}
