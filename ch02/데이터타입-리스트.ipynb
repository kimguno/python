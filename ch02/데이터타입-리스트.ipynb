{
 "cells": [
  {
   "cell_type": "code",
   "execution_count": 3,
   "metadata": {},
   "outputs": [
    {
     "name": "stdout",
     "output_type": "stream",
     "text": [
      "<class 'list'> <class 'list'> <class 'list'>\n",
      "2678931449472\n"
     ]
    }
   ],
   "source": [
    "# 리스트 생성\n",
    "a = []              # 빈 리스트 생성 => object 생성\n",
    "b = [1,'a',[1,2]]   # 아무거나 다 저장 가능\n",
    "c = list()          # 빈 리스트 생성 => object 생성\n",
    "print(type(a), type(b), type(c))\n",
    "print(id(a))"
   ]
  },
  {
   "cell_type": "code",
   "execution_count": 8,
   "metadata": {},
   "outputs": [
    {
     "name": "stdout",
     "output_type": "stream",
     "text": [
      "[1, 2, 3]\n",
      "2\n",
      "[1, 5, 3]\n"
     ]
    }
   ],
   "source": [
    "# 리스트 인덱싱, 슬라이싱\n",
    "# 리스틑 => 튜플 => 문자열\n",
    "a = [1,2,3]\n",
    "print(a)\n",
    "print(a[1])\n",
    "a[1] = 5\n",
    "print(a)"
   ]
  },
  {
   "cell_type": "code",
   "execution_count": 12,
   "metadata": {},
   "outputs": [
    {
     "name": "stdout",
     "output_type": "stream",
     "text": [
      "2678931688384 2678931688384\n",
      "[1, 5, 3]\n",
      "[1, 5, 3]\n"
     ]
    }
   ],
   "source": [
    "a = [1,2,3]\n",
    "b = a\n",
    "print(id(a),id(b))\n",
    "b[1] = 5\n",
    "print(a)\n",
    "print(b)"
   ]
  },
  {
   "cell_type": "code",
   "execution_count": 15,
   "metadata": {},
   "outputs": [
    {
     "name": "stdout",
     "output_type": "stream",
     "text": [
      "2678931702784 2678931544896\n",
      "a :  [1, 2, 3]\n",
      "b :  [1, 5, 3]\n"
     ]
    }
   ],
   "source": [
    "# 복제 필요\n",
    "a = [1,2,3]\n",
    "# b = a.copy()\n",
    "b = a[:] # 이것도 카피~\n",
    "print(id(a), id(b))\n",
    "b[1] = 5\n",
    "print('a : ', a)\n",
    "print('b : ', b)\n",
    "\n"
   ]
  },
  {
   "cell_type": "code",
   "execution_count": 18,
   "metadata": {},
   "outputs": [
    {
     "name": "stdout",
     "output_type": "stream",
     "text": [
      "[1, 2, ['a', 'b', ['Life', 'is']]]\n",
      "Life\n"
     ]
    }
   ],
   "source": [
    "a = [1,2,['a','b',['Life', 'is']]]\n",
    "print(a)\n",
    "print(a[2][2][0])"
   ]
  },
  {
   "cell_type": "code",
   "execution_count": 20,
   "metadata": {},
   "outputs": [
    {
     "name": "stdout",
     "output_type": "stream",
     "text": [
      "[1, 2]\n"
     ]
    }
   ],
   "source": [
    "# 리스트 슬라이싱\n",
    "a = [1,2,3,4,5]\n",
    "print(a[0:2])"
   ]
  },
  {
   "cell_type": "code",
   "execution_count": 22,
   "metadata": {},
   "outputs": [
    {
     "name": "stdout",
     "output_type": "stream",
     "text": [
      "12\n"
     ]
    }
   ],
   "source": [
    "a = '12345'\n",
    "print(a[0:2])"
   ]
  },
  {
   "cell_type": "code",
   "execution_count": 31,
   "metadata": {},
   "outputs": [
    {
     "name": "stdout",
     "output_type": "stream",
     "text": [
      "['a', 'b']\n"
     ]
    }
   ],
   "source": [
    "a = [1,2,3,['a','b','c'],4,5]\n",
    "print(a[3][0:2])"
   ]
  },
  {
   "cell_type": "code",
   "execution_count": 42,
   "metadata": {},
   "outputs": [
    {
     "name": "stdout",
     "output_type": "stream",
     "text": [
      "[1, 2, 4]\n",
      "[1, ['a', 'b', 'c'], 4]\n",
      "[1, 'a', 'b', 'c', 4]\n",
      "b\n"
     ]
    }
   ],
   "source": [
    "# 리스트의 수정, 변경과 삭제\n",
    "a = [1,2,3]\n",
    "a[2] = 4\n",
    "print(a)\n",
    "a[1] = ['a','b','c']\n",
    "print(a)\n",
    "a[1:2] = ['a','b','c']\n",
    "print(a)\n",
    "print(a[2])"
   ]
  },
  {
   "cell_type": "code",
   "execution_count": 46,
   "metadata": {},
   "outputs": [
    {
     "name": "stdout",
     "output_type": "stream",
     "text": [
      "[1, 'a', 'b', 'c', 4]\n",
      "[1, 'c', 4]\n"
     ]
    }
   ],
   "source": [
    "# 삭제\n",
    "a = [1,'a','b','c',4]\n",
    "print(a)\n",
    "a[1:3] = []\n",
    "print(a)"
   ]
  },
  {
   "cell_type": "code",
   "execution_count": 48,
   "metadata": {},
   "outputs": [
    {
     "name": "stdout",
     "output_type": "stream",
     "text": [
      "[1]\n"
     ]
    }
   ],
   "source": [
    "# a[1:2] = []\n",
    "del a[1] #del은 object 삭제\n",
    "print(a)"
   ]
  },
  {
   "cell_type": "markdown",
   "metadata": {},
   "source": [
    "---\n",
    "리스트 관련 메소드\n",
    "\n",
    "---"
   ]
  },
  {
   "cell_type": "markdown",
   "metadata": {},
   "source": [
    "$\\{x, y\\}$\n",
    "$\\{ \\frac{1}{x} \\}$\n",
    "$\\Bigl\\{ \\frac{1}{x} \\Bigr\\}$\n"
   ]
  },
  {
   "cell_type": "markdown",
   "metadata": {},
   "source": [
    "\n",
    "$\\operatorname{Sigmoid}\\, (x)$"
   ]
  },
  {
   "cell_type": "markdown",
   "metadata": {},
   "source": [
    "$\\begin{matrix}\n",
    "    x & y \\newline z & v\n",
    "\\end{matrix}$\n",
    "\n",
    "\n",
    "$\\begin{vmatrix}\n",
    "    x & y \\newline z & v\n",
    "\\end{vmatrix}$\n",
    "\n",
    "\n",
    "$\\begin{pmatrix}\n",
    "    x & y \\newline z & v\n",
    "\\end{pmatrix}$\n",
    "\n",
    "\n",
    "$\\begin{bmatrix}\n",
    "    x & y \\newline z & v\n",
    "\\end{bmatrix}$"
   ]
  },
  {
   "cell_type": "code",
   "execution_count": 55,
   "metadata": {},
   "outputs": [
    {
     "name": "stdout",
     "output_type": "stream",
     "text": [
      "[4, 3, 2, 1]\n",
      "[1, 2, 3, 4]\n",
      "['a', 'b', 'c']\n"
     ]
    }
   ],
   "source": [
    "#  sort() : 정렬\n",
    "a = [1,2,3,4]\n",
    "a.sort() #default ASC\n",
    "print(a[::-1]) #DESC [start : step]\n",
    "print(a) # ASC\n",
    "\n",
    "\n",
    "a = ['a','b','c']\n",
    "print(a)\n"
   ]
  },
  {
   "cell_type": "code",
   "execution_count": 58,
   "metadata": {},
   "outputs": [
    {
     "name": "stdout",
     "output_type": "stream",
     "text": [
      "['b', 'c', 'a']\n"
     ]
    }
   ],
   "source": [
    "a = ['a','c','b']\n",
    "a.reverse()\n",
    "print(a)"
   ]
  },
  {
   "cell_type": "code",
   "execution_count": 60,
   "metadata": {},
   "outputs": [
    {
     "data": {
      "text/plain": [
       "2"
      ]
     },
     "execution_count": 60,
     "metadata": {},
     "output_type": "execute_result"
    }
   ],
   "source": [
    "# 위치반환 : index(value) => value 의 index 반환,\n",
    "a = [1,2,3]\n",
    "a.index(3)"
   ]
  },
  {
   "cell_type": "code",
   "execution_count": 63,
   "metadata": {},
   "outputs": [
    {
     "name": "stdout",
     "output_type": "stream",
     "text": [
      "[4, 1, 5, 2, 3]\n"
     ]
    }
   ],
   "source": [
    "# 요소삽입 : insert(position, value) => position : index\n",
    "\n",
    "a = [1,2,3]\n",
    "a.insert(0,4)\n",
    "a.insert(2,5)\n",
    "print(a)"
   ]
  },
  {
   "cell_type": "code",
   "execution_count": 65,
   "metadata": {},
   "outputs": [
    {
     "name": "stdout",
     "output_type": "stream",
     "text": [
      "[2, 3, 1, 2, 3]\n"
     ]
    }
   ],
   "source": [
    "# 요소 제거 : remove(value)\n",
    "a = [1,2,3,1,2,3]\n",
    "a.remove(1) # 제거 후 버린다\n",
    "print(a)\n"
   ]
  },
  {
   "cell_type": "code",
   "execution_count": 69,
   "metadata": {},
   "outputs": [
    {
     "name": "stdout",
     "output_type": "stream",
     "text": [
      "[1, 2] 3\n",
      "[1] 2\n",
      "1 2 3\n"
     ]
    }
   ],
   "source": [
    "# 꺼낸 후 제거 : pop() : 마지막, pop(index)\n",
    "a = [1,2,3]\n",
    "b = a.pop()\n",
    "print(a, b)\n",
    "\n",
    "c = a.pop(1)\n",
    "print(a,c)\n",
    "\n",
    "a = a.pop()\n",
    "print(a,c,b)\n"
   ]
  },
  {
   "cell_type": "code",
   "execution_count": 71,
   "metadata": {},
   "outputs": [
    {
     "data": {
      "text/plain": [
       "2"
      ]
     },
     "execution_count": 71,
     "metadata": {},
     "output_type": "execute_result"
    }
   ],
   "source": [
    "# 개수 : count(value)\n",
    "a = [1,2,3,1]\n",
    "a.count(1)"
   ]
  },
  {
   "cell_type": "code",
   "execution_count": 75,
   "metadata": {},
   "outputs": [
    {
     "name": "stdout",
     "output_type": "stream",
     "text": [
      "[1, 2, 3, 4, 5]\n"
     ]
    }
   ],
   "source": [
    "# 확장 : extend([])\n",
    "a = [1,2,3]\n",
    "b = [4,5]\n",
    "# a = a + b\n",
    "a.extend(b)\n",
    "print(a)"
   ]
  }
 ],
 "metadata": {
  "kernelspec": {
   "display_name": "test",
   "language": "python",
   "name": "python3"
  },
  "language_info": {
   "codemirror_mode": {
    "name": "ipython",
    "version": 3
   },
   "file_extension": ".py",
   "mimetype": "text/x-python",
   "name": "python",
   "nbconvert_exporter": "python",
   "pygments_lexer": "ipython3",
   "version": "3.10.14"
  }
 },
 "nbformat": 4,
 "nbformat_minor": 2
}
