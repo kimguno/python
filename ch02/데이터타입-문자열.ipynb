{
 "cells": [
  {
   "cell_type": "code",
   "execution_count": null,
   "metadata": {},
   "outputs": [],
   "source": [
    "# 문자열 기호 => '', \"\"\n",
    "a = 'Hello'\n",
    "a "
   ]
  },
  {
   "cell_type": "code",
   "execution_count": null,
   "metadata": {},
   "outputs": [],
   "source": [
    "# 문자열 연결 (concatenation)\n",
    "head = \"Python\"\n",
    "tail = \" is fun\"\n",
    "print(head + tail)"
   ]
  },
  {
   "cell_type": "code",
   "execution_count": null,
   "metadata": {},
   "outputs": [],
   "source": [
    "a = \"python\"\n",
    "print(a*3)"
   ]
  },
  {
   "cell_type": "code",
   "execution_count": null,
   "metadata": {},
   "outputs": [],
   "source": [
    "# 인덱싱\n",
    "# 문자열 => tuple => list => iterable(index)\n",
    "a = \"Life is too short !\"\n",
    "print(a)\n",
    "print(a[1])\n",
    "print(a[0])\n",
    "print(a[-1])"
   ]
  },
  {
   "cell_type": "code",
   "execution_count": null,
   "metadata": {},
   "outputs": [],
   "source": [
    "# 슬라이싱 => 잘라내기\n",
    "print(a)\n",
    "print(a[0:4])\n",
    "print(a[8:11])\n",
    "print(a[12:19])\n",
    "print(a[12:])\n",
    "print(a[:4])\n",
    "print(a[:])"
   ]
  },
  {
   "cell_type": "code",
   "execution_count": null,
   "metadata": {},
   "outputs": [],
   "source": [
    "#\n",
    "a = \"Life\"\n",
    "print(a[1:2]) #슬라이싱\n",
    "print(a[1]) #인덱싱\n",
    "\n",
    "\n"
   ]
  },
  {
   "cell_type": "code",
   "execution_count": null,
   "metadata": {},
   "outputs": [],
   "source": [
    "a = \"Life\"\n",
    "b=a\n",
    "b = b + 'b'\n",
    "c = a[0] + 'b' + a[2:]\n",
    "\n",
    "\n",
    "print(a)\n",
    "print(b)\n",
    "print(c)"
   ]
  },
  {
   "cell_type": "code",
   "execution_count": null,
   "metadata": {},
   "outputs": [],
   "source": [
    "#문자열 포맷팅\n",
    "#1. % 사용하는 방식 : % => 위치 지정, d => 숫자, %d => 숫자가 들어가는 위치 지정\n",
    "cnt = 10\n",
    "print('I eat %d apples.' % cnt)\n",
    "#2. 문자열 클래스 fotmat() 사용\n",
    "\n",
    "#3. 포맷 스트림 사용\n",
    "print(f'I eat {cnt} apples')"
   ]
  },
  {
   "cell_type": "code",
   "execution_count": null,
   "metadata": {},
   "outputs": [],
   "source": [
    "#문자열 포맷팅\n",
    "# 1.정렬가 공백\n",
    "print('%s'%'hi')\n",
    "print('%10s'%'hi')"
   ]
  },
  {
   "cell_type": "code",
   "execution_count": null,
   "metadata": {},
   "outputs": [],
   "source": [
    "# 2. 소수점 표현\n",
    "print('파이 : %f' %3.141592)\n",
    "print('파이 : %0.4f' %3.141592)\n",
    "\n",
    "# 포맷 스트림\n",
    "pi = 3.141592\n",
    "print(f'파이 : {pi:0.4f}')\n",
    "print(f'파이 : {pi:10.4f}')\n"
   ]
  },
  {
   "cell_type": "code",
   "execution_count": null,
   "metadata": {},
   "outputs": [],
   "source": [
    "# 문자열 관련 메소드\n",
    "a = 'hobby'\n",
    "a.count('b')"
   ]
  },
  {
   "cell_type": "code",
   "execution_count": null,
   "metadata": {},
   "outputs": [],
   "source": [
    "# 특정문자열 위치(index) 반환\n",
    "# find(문자열), index(문자열)\n",
    "a = 'Life is too short'\n",
    "print(a.find('i'))\n",
    "print(a.find('m')) # 없으면 -1 반환\n",
    "print(a.index('i'))\n",
    "try:\n",
    "    print(a.index('m')) # 없으면 에러 때려버리깃\n",
    "except:\n",
    "    print('찾는 문자열이 없습니다')"
   ]
  },
  {
   "cell_type": "code",
   "execution_count": null,
   "metadata": {},
   "outputs": [],
   "source": [
    "#문자열 삽입(join)\n",
    "a = ','\n",
    "print(a.join('abcd'))"
   ]
  },
  {
   "cell_type": "code",
   "execution_count": null,
   "metadata": {},
   "outputs": [],
   "source": [
    "a = \"hh\"\n",
    "print(a.upper())"
   ]
  },
  {
   "cell_type": "code",
   "execution_count": null,
   "metadata": {},
   "outputs": [],
   "source": [
    "#공백 제거\n",
    "a = 'hi ' \n",
    "b = ' hi'\n",
    "c = ' hi '\n",
    "d = ' hi hi '\n",
    "print(a.rstrip())   # 오른쪽 제거\n",
    "print(a.lstrip())   # 왼쪽 제거\n",
    "print(c.strip())    # 양쪽 제거\n",
    "print(d.strip())    # 중간 거 제거 안됨\n"
   ]
  },
  {
   "cell_type": "code",
   "execution_count": null,
   "metadata": {},
   "outputs": [],
   "source": [
    "# 문자열 바꾸기 (replace)\n",
    "d = ' hi hi '\n",
    "print(d.replace(' ', ''))"
   ]
  },
  {
   "cell_type": "code",
   "execution_count": 1,
   "metadata": {},
   "outputs": [
    {
     "name": "stdout",
     "output_type": "stream",
     "text": [
      "['Life', 'is', 'too', 'short']\n",
      "['a', 'b', 'c', 'f']\n"
     ]
    }
   ],
   "source": [
    "# 문자열 나누기 (split) => return [] , list\n",
    "a = 'Life is too short'\n",
    "print(a.split())\n",
    "\n",
    "b = 'a:b:c:f'\n",
    "print(b.split(':'))"
   ]
  },
  {
   "cell_type": "code",
   "execution_count": 5,
   "metadata": {},
   "outputs": [
    {
     "data": {
      "text/plain": [
       "'I eat 4 apples 4'"
      ]
     },
     "execution_count": 5,
     "metadata": {},
     "output_type": "execute_result"
    }
   ],
   "source": [
    "# 고급 문자열 포매팅 => format() 메소드\n",
    "# 'I eat %d apples' % 3\n",
    "'I eat {1} apples {1}'.format(3,4)"
   ]
  },
  {
   "cell_type": "code",
   "execution_count": 15,
   "metadata": {},
   "outputs": [
    {
     "data": {
      "text/plain": [
       "15"
      ]
     },
     "execution_count": 15,
     "metadata": {},
     "output_type": "execute_result"
    }
   ],
   "source": [
    "def add(* num):\n",
    "    sum = 0\n",
    "    for i in num:\n",
    "        sum += i\n",
    "    return sum\n",
    "        \n",
    "        \n",
    "add(1,2,3,4,5)"
   ]
  },
  {
   "cell_type": "code",
   "execution_count": 22,
   "metadata": {},
   "outputs": [
    {
     "name": "stdout",
     "output_type": "stream",
     "text": [
      "I ate 10 apples, so O was sick for three days.\n",
      "I ate 10 apples, so O was sick for three days.\n",
      "I ate 10 apples, so O was sick for three days.\n"
     ]
    }
   ],
   "source": [
    "#  2개 이상의 값 넣기\n",
    "number = 10\n",
    "day = 'three'\n",
    "print('I ate {0} apples, so O was sick for {1} days.'.format(number,day))\n",
    "print('I ate {number} apples, so O was sick for {day} days.'.format(number=10,day='three'))\n",
    "print(f'I ate {number} apples, so O was sick for {day} days.')\n"
   ]
  },
  {
   "cell_type": "code",
   "execution_count": 28,
   "metadata": {},
   "outputs": [
    {
     "name": "stdout",
     "output_type": "stream",
     "text": [
      "hi         !\n",
      "        hi !\n",
      "hi         !\n",
      "    hi     !\n"
     ]
    }
   ],
   "source": [
    "# format method 정렬\n",
    "print('{0:10} !'.format('hi'))\n",
    "print('{0:>10} !'.format('hi'))\n",
    "print('{0:<10} !'.format('hi'))\n",
    "print('{0:^10} !'.format('hi'))"
   ]
  },
  {
   "cell_type": "code",
   "execution_count": 32,
   "metadata": {},
   "outputs": [
    {
     "name": "stdout",
     "output_type": "stream",
     "text": [
      "Pi : 3.1416\n",
      "pi : 3.1416\n"
     ]
    }
   ],
   "source": [
    "# 소수점 처리 (실수 : f)\n",
    "PI = 3.141592\n",
    "print('Pi : {0:0.4f}'.format(PI))\n",
    "print(f'pi : {PI:0.4f}')\n"
   ]
  }
 ],
 "metadata": {
  "kernelspec": {
   "display_name": "test",
   "language": "python",
   "name": "python3"
  },
  "language_info": {
   "codemirror_mode": {
    "name": "ipython",
    "version": 3
   },
   "file_extension": ".py",
   "mimetype": "text/x-python",
   "name": "python",
   "nbconvert_exporter": "python",
   "pygments_lexer": "ipython3",
   "version": "3.10.14"
  }
 },
 "nbformat": 4,
 "nbformat_minor": 2
}
