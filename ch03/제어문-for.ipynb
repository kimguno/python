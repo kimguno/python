{
 "cells": [
  {
   "cell_type": "code",
   "execution_count": 2,
   "metadata": {},
   "outputs": [
    {
     "name": "stdout",
     "output_type": "stream",
     "text": [
      "own\n",
      "two\n",
      "three\n"
     ]
    }
   ],
   "source": [
    "test_list = ['own','two','three']\n",
    "\n",
    "for i in test_list:\n",
    "    print(i)\n"
   ]
  },
  {
   "cell_type": "code",
   "execution_count": 14,
   "metadata": {},
   "outputs": [
    {
     "name": "stdout",
     "output_type": "stream",
     "text": [
      "[(1, 2), (3, 4), (5, 6)]\n",
      "3\n",
      "7\n",
      "11\n",
      "3\n",
      "7\n",
      "11\n",
      "1\n",
      "3\n",
      "5\n"
     ]
    }
   ],
   "source": [
    "##### 다양한 for 문의 사용\n",
    "a = [(1,2),(3,4),(5,6)]\n",
    "print(a)\n",
    "for k in a:\n",
    "    print(k[0]+k[1])\n",
    "    \n",
    "for b,c in a:\n",
    "    print(b+c)\n",
    "    \n",
    "    \n",
    "for b,_ in a:\n",
    "    print(b)"
   ]
  },
  {
   "cell_type": "code",
   "execution_count": 19,
   "metadata": {},
   "outputs": [
    {
     "name": "stdout",
     "output_type": "stream",
     "text": [
      "1 번 학생은 90점 합격\n",
      "3 번 학생은 67점 합격\n",
      "5 번 학생은 80점 합격\n"
     ]
    }
   ],
   "source": [
    "# 요건 \n",
    "# 5명의 학생이 시험을 보았다\n",
    "# 학생 순서 저장 필요\n",
    "# 50점이 넘으면 합격, 안되면 불합격\n",
    "scores = [90,25,67,45,80]\n",
    "\n",
    "number = 0 #학생 번호\n",
    "\n",
    "for score in scores:\n",
    "    number += 1 # 1TLr wmdrk\n",
    "    if score >= 60:\n",
    "        print(f'{number} 번 학생은 {score}점 합격')\n",
    "    # else:\n",
    "    #     print(f'{number} 번 학생은 {score}점 불합격')\n"
   ]
  },
  {
   "cell_type": "code",
   "execution_count": 24,
   "metadata": {},
   "outputs": [
    {
     "name": "stdout",
     "output_type": "stream",
     "text": [
      "range(1, 10)\n",
      "range(1, 11)\n",
      "1 2 3 4 5 6 7 8 9 10 "
     ]
    }
   ],
   "source": [
    "# 파이썬 for each 문 만 있다.\n",
    "# 10번 반복, 정해진 구간 반복 코딩 문제 발생\n",
    "# 구간을 생성하는 함수 : range([start=0],end,[step=1]) => range object return\n",
    "# range object iterable(반복 가능)\n",
    "# 1~10 구간 생성\n",
    "print(range(1,10,1))\n",
    "print(range(1,11))\n",
    "\n",
    "for i in range(1,11):\n",
    "    print(i, end=' ')"
   ]
  },
  {
   "cell_type": "code",
   "execution_count": 30,
   "metadata": {},
   "outputs": [
    {
     "name": "stdout",
     "output_type": "stream",
     "text": [
      "50005000\n"
     ]
    }
   ],
   "source": [
    "# 요건 : 1부터 1- 까지 합 출력\n",
    "\n",
    "# sum = 0\n",
    "# for num in range(1,10001):\n",
    "#     sum += num\n",
    "\n",
    "# print(sum)"
   ]
  },
  {
   "cell_type": "code",
   "execution_count": 45,
   "metadata": {},
   "outputs": [
    {
     "name": "stdout",
     "output_type": "stream",
     "text": [
      "1번 학생90 점으로 합격\n",
      "3번 학생67 점으로 합격\n",
      "5번 학생80 점으로 합격\n",
      "6번 학생65 점으로 합격\n",
      "7번 학생100 점으로 합격\n"
     ]
    }
   ],
   "source": [
    "\n",
    "scores = [90,25,67,45,80,65,100]\n",
    "\n",
    "for number in range(len(scores)):\n",
    "    if scores[number] < 60:\n",
    "        continue\n",
    "    print(f'{number+1}번 학생{scores[number]} 점으로 합격')\n"
   ]
  },
  {
   "cell_type": "code",
   "execution_count": 54,
   "metadata": {},
   "outputs": [
    {
     "name": "stdout",
     "output_type": "stream",
     "text": [
      "2 4 6 8 10 12 14 16 18 \n",
      "3 6 9 12 15 18 21 24 27 \n",
      "4 8 12 16 20 24 28 32 36 \n",
      "5 10 15 20 25 30 35 40 45 \n",
      "6 12 18 24 30 36 42 48 54 \n",
      "7 14 21 28 35 42 49 56 63 \n",
      "8 16 24 32 40 48 56 64 72 \n",
      "9 18 27 36 45 54 63 72 81 \n"
     ]
    }
   ],
   "source": [
    "for i in range(2,10):\n",
    "    for j in range(1,10):\n",
    "        print(i*j, end=' ')\n",
    "    print()"
   ]
  },
  {
   "cell_type": "code",
   "execution_count": 58,
   "metadata": {},
   "outputs": [
    {
     "name": "stdout",
     "output_type": "stream",
     "text": [
      "[3, 6, 9, 12]\n",
      "[3, 6, 9, 12]\n"
     ]
    }
   ],
   "source": [
    "# 리스트 내포(List comprehension)\n",
    "# [표현식 for 변수 in iterable (if 조건)]\n",
    "# 요건 : 변수*3 => list => 출력\n",
    "a = [1,2,3,4]\n",
    "result = [] #결과를 저장하는 빈 리스트 생성\n",
    "for num in a:\n",
    "    result.append(num*3)\n",
    "\n",
    "print(result)\n",
    "\n",
    "#### 리스트 내포 변경\n",
    "result = [num*3 for num in a]\n",
    "\n",
    "print(result)"
   ]
  },
  {
   "cell_type": "code",
   "execution_count": 61,
   "metadata": {},
   "outputs": [
    {
     "name": "stdout",
     "output_type": "stream",
     "text": [
      "[6, 12]\n"
     ]
    }
   ],
   "source": [
    "# 위 코드에서 추가로 짝수만 저장해서 출력 코드\n",
    "a = [1,2,3,4]\n",
    "\n",
    "result = [num * 3 for num in a if num %2 == 0]\n",
    "\n",
    "print(result)"
   ]
  },
  {
   "cell_type": "code",
   "execution_count": 65,
   "metadata": {},
   "outputs": [
    {
     "name": "stdout",
     "output_type": "stream",
     "text": [
      "[2, 4, 6, 8, 10, 12, 14, 16, 18, 3, 6, 9, 12, 15, 18, 21, 24, 27, 4, 8, 12, 16, 20, 24, 28, 32, 36, 5, 10, 15, 20, 25, 30, 35, 40, 45, 6, 12, 18, 24, 30, 36, 42, 48, 54, 7, 14, 21, 28, 35, 42, 49, 56, 63, 8, 16, 24, 32, 40, 48, 56, 64, 72, 9, 18, 27, 36, 45, 54, 63, 72, 81]\n"
     ]
    }
   ],
   "source": [
    "result = [x*y for x in range(2,10) for y in range(1,10)]\n",
    "print(result)"
   ]
  },
  {
   "cell_type": "code",
   "execution_count": 69,
   "metadata": {},
   "outputs": [
    {
     "name": "stdout",
     "output_type": "stream",
     "text": [
      "['date', 'is', 'a', 'has']\n"
     ]
    }
   ],
   "source": [
    "# 리스트에서 문자열의 길이 5이하인 문자열 선택\n",
    "words = ['apple','banana','cherry','date','is','a','has']\n",
    "len_5_lt = [word for word in words if len(word) <5]\n",
    "print(len_5_lt)"
   ]
  },
  {
   "cell_type": "code",
   "execution_count": null,
   "metadata": {},
   "outputs": [],
   "source": []
  }
 ],
 "metadata": {
  "kernelspec": {
   "display_name": "test",
   "language": "python",
   "name": "python3"
  },
  "language_info": {
   "codemirror_mode": {
    "name": "ipython",
    "version": 3
   },
   "file_extension": ".py",
   "mimetype": "text/x-python",
   "name": "python",
   "nbconvert_exporter": "python",
   "pygments_lexer": "ipython3",
   "version": "3.10.14"
  }
 },
 "nbformat": 4,
 "nbformat_minor": 2
}
