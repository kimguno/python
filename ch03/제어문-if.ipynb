{
 "cells": [
  {
   "cell_type": "code",
   "execution_count": 4,
   "metadata": {},
   "outputs": [
    {
     "name": "stdout",
     "output_type": "stream",
     "text": [
      "걸어가라\n"
     ]
    }
   ],
   "source": [
    "# 돈이 있으면 택시 타고, 없으면 걸어가라\n",
    "\n",
    "money = 0\n",
    "\n",
    "if money:\n",
    "    print('택시 ㄱ')\n",
    "else:\n",
    "    print('걸어가라')"
   ]
  },
  {
   "cell_type": "code",
   "execution_count": 6,
   "metadata": {},
   "outputs": [
    {
     "name": "stdout",
     "output_type": "stream",
     "text": [
      "택시타라\n"
     ]
    }
   ],
   "source": [
    "# 논리 연산자 => or,and,not\n",
    "# 현금이 4800원 이상이거나, 카드가 있으면 택시타고, 둘다 없으면 걸어가라\n",
    "money = 0\n",
    "card = 1\n",
    "\n",
    "if money >= 4800 or card:\n",
    "    print('택시타라')\n",
    "else:\n",
    "    print('걸어가라')"
   ]
  },
  {
   "cell_type": "code",
   "execution_count": 8,
   "metadata": {},
   "outputs": [],
   "source": [
    "# 주머니 안에 돈이 있으면 가만히 있고, 주머니에 돈이 없으면 카드를 꺼내라\n",
    "pocket = ['paper', 'money', 'phone']\n",
    "\n",
    "if 'money' in pocket:\n",
    "    pass\n",
    "else:\n",
    "    print('카드꺼내삼')"
   ]
  },
  {
   "cell_type": "code",
   "execution_count": 10,
   "metadata": {},
   "outputs": [
    {
     "name": "stdout",
     "output_type": "stream",
     "text": [
      "택시타라\n"
     ]
    }
   ],
   "source": [
    "# 주머니 안에 돈이있으면 택시타고. 주머니 안에 돈은 없지만 카드가 있으면\n",
    "# 택시 타고, 둘 다 없으면 걸어가라\n",
    "pocket = ['paper', 'phone']\n",
    "card = 1\n",
    "\n",
    "if 'money' in pocket:\n",
    "    print('택시타라')\n",
    "elif card:\n",
    "    print('택시타라')\n",
    "else:\n",
    "    print('걸어가라')"
   ]
  },
  {
   "cell_type": "code",
   "execution_count": 11,
   "metadata": {},
   "outputs": [],
   "source": [
    "# if 문을 한줄에 작성\n",
    "pocket = ['paper', 'phone','money']\n",
    "card = 1\n",
    "\n",
    "# if 'money' in pocket:\n",
    "#     pass\n",
    "if 'money' in pocket: pass\n",
    "else:\n",
    "    print('카드를 꺼내라')"
   ]
  }
 ],
 "metadata": {
  "kernelspec": {
   "display_name": "test",
   "language": "python",
   "name": "python3"
  },
  "language_info": {
   "codemirror_mode": {
    "name": "ipython",
    "version": 3
   },
   "file_extension": ".py",
   "mimetype": "text/x-python",
   "name": "python",
   "nbconvert_exporter": "python",
   "pygments_lexer": "ipython3",
   "version": "3.10.14"
  }
 },
 "nbformat": 4,
 "nbformat_minor": 2
}
