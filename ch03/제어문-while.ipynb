{
 "cells": [
  {
   "cell_type": "code",
   "execution_count": 1,
   "metadata": {},
   "outputs": [],
   "source": [
    "# while 기본 구조\n",
    "# while 조건문: True 일때 아래 코드들이 실행\n",
    "#     코드\n",
    "#     코드\n",
    "#     ."
   ]
  },
  {
   "cell_type": "code",
   "execution_count": 4,
   "metadata": {},
   "outputs": [
    {
     "name": "stdout",
     "output_type": "stream",
     "text": [
      "나무를 1번 찍었습니다.\n",
      "나무를 2번 찍었습니다.\n",
      "나무를 3번 찍었습니다.\n",
      "나무를 4번 찍었습니다.\n",
      "나무를 5번 찍었습니다.\n",
      "나무를 6번 찍었습니다.\n",
      "나무를 7번 찍었습니다.\n",
      "나무를 8번 찍었습니다.\n",
      "나무를 9번 찍었습니다.\n",
      "나무를 10번 찍었습니다.\n",
      "넘어간다~~\n"
     ]
    }
   ],
   "source": [
    "# 열 번  찍어 안 넘어가는 나무 없다.\n",
    "\n",
    "treeHit = 0\n",
    "\n",
    "while treeHit < 10:\n",
    "    treeHit += 1 #1씩 증가\n",
    "    print(f'나무를 {treeHit}번 찍었습니다.')\n",
    "    if treeHit == 10 :\n",
    "        print('넘어간다~~')"
   ]
  },
  {
   "cell_type": "code",
   "execution_count": 7,
   "metadata": {},
   "outputs": [
    {
     "name": "stdout",
     "output_type": "stream",
     "text": [
      "\n",
      "1. ADD\n",
      "2. DELETE\n",
      "3. LIST\n",
      "4. QUIT\n",
      "\n",
      "ENTER NUMBER : \n",
      "\n"
     ]
    }
   ],
   "source": [
    "# 연락처 프로그램 메뉴 처리\n",
    "# 여러줄 문자열 선언\n",
    "prompt = '''\n",
    "1. ADD\n",
    "2. DELETE\n",
    "3. LIST\n",
    "4. QUIT\n",
    "\n",
    "ENTER NUMBER : \n",
    "'''\n",
    "\n",
    "print(prompt)"
   ]
  },
  {
   "cell_type": "code",
   "execution_count": 11,
   "metadata": {},
   "outputs": [
    {
     "name": "stdout",
     "output_type": "stream",
     "text": [
      "\n",
      "1. ADD\n",
      "2. DELETE\n",
      "3. LIST\n",
      "4. QUIT\n",
      "\n",
      "ENTER NUMBER : \n",
      "\n"
     ]
    }
   ],
   "source": [
    "number = 0\n",
    "while number !=4:\n",
    "    print(prompt)\n",
    "    number = int(input())"
   ]
  },
  {
   "cell_type": "code",
   "execution_count": 16,
   "metadata": {},
   "outputs": [
    {
     "name": "stdout",
     "output_type": "stream",
     "text": [
      " \n"
     ]
    }
   ],
   "source": [
    "age = input('나이 입력 :')\n",
    "name = input('이름 입력 :')\n",
    "\n",
    "print(age, name)"
   ]
  },
  {
   "cell_type": "code",
   "execution_count": 19,
   "metadata": {},
   "outputs": [
    {
     "name": "stdout",
     "output_type": "stream",
     "text": [
      "돈을 받았음\n",
      "남은 커피의 양은 9 개입니다\n",
      "돈을 받았음\n",
      "남은 커피의 양은 8 개입니다\n",
      "돈을 받았음\n",
      "남은 커피의 양은 7 개입니다\n",
      "돈을 받았음\n",
      "남은 커피의 양은 6 개입니다\n",
      "돈을 받았음\n",
      "남은 커피의 양은 5 개입니다\n",
      "돈을 받았음\n",
      "남은 커피의 양은 4 개입니다\n",
      "돈을 받았음\n",
      "남은 커피의 양은 3 개입니다\n",
      "돈을 받았음\n",
      "남은 커피의 양은 2 개입니다\n",
      "돈을 받았음\n",
      "남은 커피의 양은 1 개입니다\n",
      "돈을 받았음\n",
      "남은 커피의 양은 0 개입니다\n",
      "커피 없지롱\n"
     ]
    }
   ],
   "source": [
    "# 1단계 자판기\n",
    "# 커피 : 10잔 \n",
    "coffee = 10\n",
    "money = 300\n",
    "\n",
    "while money:\n",
    "    print('돈을 받았음')\n",
    "    coffee -= 1\n",
    "    print(f'남은 커피의 양은 {coffee} 개입니다')\n",
    "    if not coffee: #0이면\n",
    "        print('커피 없지롱')\n",
    "        break"
   ]
  },
  {
   "cell_type": "code",
   "execution_count": 25,
   "metadata": {},
   "outputs": [
    {
     "name": "stdout",
     "output_type": "stream",
     "text": [
      "거스름돈 300을 주고 커피 준다\n",
      "커피 받앙\n",
      "커피 받앙\n",
      "커피 받앙\n",
      "커피 받앙\n",
      "커피 받앙\n",
      "커피 받앙\n",
      "커피 받앙\n",
      "커피 받앙\n",
      "커피 받앙\n",
      "커피 없지롱\n"
     ]
    }
   ],
   "source": [
    "# 2단계 자판기 : 사용자 돈을 입력 (200, 500, 1000)\n",
    "coffee = 10\n",
    "\n",
    "while money:\n",
    "    money = int(input('얼마 넣노? ')) # 키보드 입력되는 값들은 다 문자열\n",
    "    if money == 300: # 40 > 300\n",
    "        print('커피 받앙')\n",
    "        coffee -= 1\n",
    "    elif money > 300:\n",
    "        print(f'거스름돈 {money -300}을 주고 커피 준다')\n",
    "        coffee -= 1\n",
    "    else:\n",
    "        print('돈 더 줘')\n",
    "    if not coffee:\n",
    "        print('커피 없지롱')\n",
    "        break\n",
    "    \n",
    "    "
   ]
  },
  {
   "cell_type": "code",
   "execution_count": 29,
   "metadata": {},
   "outputs": [
    {
     "name": "stdout",
     "output_type": "stream",
     "text": [
      "1\n",
      "3\n",
      "5\n",
      "7\n",
      "9\n"
     ]
    }
   ],
   "source": [
    "# 1부터 10 사이 값중 홀수 출력\n",
    "num = 1\n",
    "\n",
    "while num:\n",
    "    print(num)\n",
    "    num += 2\n",
    "    if num > 10:\n",
    "        break"
   ]
  },
  {
   "cell_type": "code",
   "execution_count": 33,
   "metadata": {},
   "outputs": [
    {
     "name": "stdout",
     "output_type": "stream",
     "text": [
      "1\n",
      "3\n",
      "5\n",
      "7\n",
      "9\n"
     ]
    }
   ],
   "source": [
    "a = 0\n",
    "while a < 10:\n",
    "    a += 1\n",
    "    if a % 2 == 0:\n",
    "        continue\n",
    "    print(a)\n",
    "    \n",
    "    "
   ]
  },
  {
   "cell_type": "code",
   "execution_count": 36,
   "metadata": {},
   "outputs": [
    {
     "name": "stdout",
     "output_type": "stream",
     "text": [
      "1\n",
      "3\n",
      "5\n",
      "7\n",
      "9\n"
     ]
    }
   ],
   "source": [
    "for k in range(10):\n",
    "        if k % 2 == 0:\n",
    "            continue\n",
    "        print(k)"
   ]
  },
  {
   "cell_type": "code",
   "execution_count": null,
   "metadata": {},
   "outputs": [],
   "source": []
  }
 ],
 "metadata": {
  "kernelspec": {
   "display_name": "test",
   "language": "python",
   "name": "python3"
  },
  "language_info": {
   "codemirror_mode": {
    "name": "ipython",
    "version": 3
   },
   "file_extension": ".py",
   "mimetype": "text/x-python",
   "name": "python",
   "nbconvert_exporter": "python",
   "pygments_lexer": "ipython3",
   "version": "3.10.14"
  }
 },
 "nbformat": 4,
 "nbformat_minor": 2
}
