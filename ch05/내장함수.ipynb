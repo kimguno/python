{
 "cells": [
  {
   "cell_type": "code",
   "execution_count": null,
   "metadata": {},
   "outputs": [],
   "source": [
    "# filter(function, iterable)\n",
    "# positve function\n",
    "def positive(list_): # 리스트안에서 양수 추출 => positive([1,-3,2,0,-5,-6])\n",
    "    # 양수 추출 최종 결과 저장하는 리스트\n",
    "    result = []\n",
    "    \n",
    "    for elem in list_:\n",
    "        # 양수 여부 확인\n",
    "        if elem > 0:\n",
    "            result.append(elem)\n",
    "        \n",
    "    return result\n",
    "#응애\n"
   ]
  },
  {
   "cell_type": "code",
   "execution_count": null,
   "metadata": {},
   "outputs": [],
   "source": [
    "positive([1,-3,2,0,-5,6])"
   ]
  },
  {
   "cell_type": "code",
   "execution_count": null,
   "metadata": {},
   "outputs": [],
   "source": [
    "# 필터 적용\n",
    "# 필터에 적용할 함수 선언 => boolean return\n",
    "def positive(x): # x 는 리스트가 아니고, 스칼라(단일값)\n",
    "    return x > 0 # x 가 양수이면 True, 아니면 False "
   ]
  },
  {
   "cell_type": "code",
   "execution_count": null,
   "metadata": {},
   "outputs": [],
   "source": [
    "list(filter(positive,[1,-3,2,0,-5,6]))"
   ]
  },
  {
   "cell_type": "code",
   "execution_count": null,
   "metadata": {},
   "outputs": [],
   "source": [
    "list(filter(lambda x : x > 0,[1,-3,2,0,-5,6]))"
   ]
  },
  {
   "cell_type": "code",
   "execution_count": null,
   "metadata": {},
   "outputs": [],
   "source": [
    "# lambda 내장함수 : 함수 object(주소 가지고 있다.) 생성 사용, 익명(이름없은) 함수 생성\n",
    "# lambda parameter [, param, ,,,] : 표현식 => 식 => 결과 => 반환\n",
    "def sum_(a,b): # lambda 사용하지않은 함수, 이름이 존재\n",
    "    return a + b \n"
   ]
  },
  {
   "cell_type": "code",
   "execution_count": null,
   "metadata": {},
   "outputs": [],
   "source": [
    "# 람다 사용 \n",
    "# 이름이 없어서 일회성이다 \n",
    "(lambda a, b : a+b)(3,4)"
   ]
  },
  {
   "cell_type": "code",
   "execution_count": null,
   "metadata": {},
   "outputs": [],
   "source": [
    "sum_ = lambda a, b : a+b # 대입 가능하다 => object 주소\n",
    "sum_(3,4)"
   ]
  },
  {
   "cell_type": "code",
   "execution_count": null,
   "metadata": {},
   "outputs": [],
   "source": [
    "# myList = [함수, 함수]\n",
    "# myList = [def sum_:,def mul_:] def 는 오브젝트가 아니라 정의만 한 것이라서 리스트에 들어갈 수 없다 \n",
    "myList = [lambda a,b:a+b,lambda a,b: a*b]\n",
    "myList"
   ]
  },
  {
   "cell_type": "code",
   "execution_count": null,
   "metadata": {},
   "outputs": [],
   "source": [
    "print(myList[0](4,5))\n",
    "print(myList[1](4,5))"
   ]
  },
  {
   "cell_type": "code",
   "execution_count": null,
   "metadata": {},
   "outputs": [],
   "source": [
    "a = (1,2,3)\n",
    "b = list(a)\n",
    "print(id(a),id(b))"
   ]
  },
  {
   "cell_type": "code",
   "execution_count": null,
   "metadata": {},
   "outputs": [],
   "source": [
    "a = [1,2,3]\n",
    "b = a\n",
    "c = list(a)\n",
    "print(id(a),id(b),id(c))"
   ]
  },
  {
   "cell_type": "code",
   "execution_count": null,
   "metadata": {},
   "outputs": [],
   "source": [
    "# 리스트를 넣어서 2배가된 리스트 반환하는 함수\n",
    "\n",
    "def two_times(list_):\n",
    "    result = [] # 최종 결과 저장 리스트\n",
    "    \n",
    "    for num in list_:\n",
    "        result.append(num*2) # 2배 처리(가공)\n",
    "        \n",
    "    return result\n",
    "\n",
    "two_times([1,2,3,4])"
   ]
  },
  {
   "cell_type": "code",
   "execution_count": null,
   "metadata": {},
   "outputs": [],
   "source": [
    "def two_times(x):\n",
    "    return x*2\n",
    "\n",
    "list(map(two_times, [1,2,3,4]))"
   ]
  },
  {
   "cell_type": "code",
   "execution_count": null,
   "metadata": {},
   "outputs": [],
   "source": [
    "list(map(lambda x : x*2, [1,2,3,4]))"
   ]
  },
  {
   "cell_type": "code",
   "execution_count": null,
   "metadata": {},
   "outputs": [],
   "source": [
    "# 리스트 입력 => 1 증가 => => 리스트 반환\n",
    "list(map(lambda x : x+1, [1,2,3,4]))"
   ]
  },
  {
   "cell_type": "code",
   "execution_count": 43,
   "metadata": {},
   "outputs": [],
   "source": [
    "# list(map(lambda x:x+1, range(100000000)))"
   ]
  },
  {
   "cell_type": "code",
   "execution_count": null,
   "metadata": {},
   "outputs": [],
   "source": []
  }
 ],
 "metadata": {
  "kernelspec": {
   "display_name": "test",
   "language": "python",
   "name": "python3"
  },
  "language_info": {
   "codemirror_mode": {
    "name": "ipython",
    "version": 3
   },
   "file_extension": ".py",
   "mimetype": "text/x-python",
   "name": "python",
   "nbconvert_exporter": "python",
   "pygments_lexer": "ipython3",
   "version": "3.10.14"
  }
 },
 "nbformat": 4,
 "nbformat_minor": 2
}
