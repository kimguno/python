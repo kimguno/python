{
 "cells": [
  {
   "cell_type": "code",
   "execution_count": null,
   "metadata": {},
   "outputs": [],
   "source": [
    "# pickle : 오브젝트를 파일에 저장하거나, 파일에 저장된 오브젝트를 읽어들일 때 사용\n",
    "import pickle\n",
    "\n",
    "data = {'name' : '홍길동', 'age' : 30} # dick object\n",
    "\n",
    "f = open('test.data','wb')\n",
    "pickle.dump(data,f) # object를 파일에 저장\n",
    "f.close()\n"
   ]
  }
 ],
 "metadata": {
  "kernelspec": {
   "display_name": "test",
   "language": "python",
   "name": "python3"
  },
  "language_info": {
   "name": "python",
   "version": "3.10.14"
  }
 },
 "nbformat": 4,
 "nbformat_minor": 2
}
