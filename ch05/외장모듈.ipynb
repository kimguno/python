{
 "cells": [
  {
   "cell_type": "code",
   "execution_count": 2,
   "metadata": {},
   "outputs": [],
   "source": [
    "# pickle : 오브젝트를 파일에 저장하거나, 파일에 저장된 오브젝트를 읽어들일 때 사용\n",
    "import pickle\n",
    "\n",
    "data = {'name' : '홍길동', 'age' : 30} # dick object\n",
    "\n",
    "f = open('test.data','wb')\n",
    "pickle.dump(data,f) # object를 파일에 저장\n",
    "f.close()\n"
   ]
  },
  {
   "cell_type": "code",
   "execution_count": 4,
   "metadata": {},
   "outputs": [
    {
     "name": "stdout",
     "output_type": "stream",
     "text": [
      "{'name': '홍길동', 'age': 30}\n"
     ]
    }
   ],
   "source": [
    "f = open('./test.data','rb')\n",
    "data = pickle.load(f)\n",
    "print(data)"
   ]
  },
  {
   "cell_type": "code",
   "execution_count": 8,
   "metadata": {},
   "outputs": [
    {
     "name": "stdout",
     "output_type": "stream",
     "text": [
      "environ({'ALLUSERSPROFILE': 'C:\\\\ProgramData', 'APPDATA': 'C:\\\\Users\\\\TJ\\\\AppData\\\\Roaming', 'APPLICATION_INSIGHTS_NO_DIAGNOSTIC_CHANNEL': '1', 'CHROME_CRASHPAD_PIPE_NAME': '\\\\\\\\.\\\\pipe\\\\crashpad_13968_IBICJSORCBRMJTQT', 'COMMONPROGRAMFILES': 'C:\\\\Program Files\\\\Common Files', 'COMMONPROGRAMFILES(X86)': 'C:\\\\Program Files (x86)\\\\Common Files', 'COMMONPROGRAMW6432': 'C:\\\\Program Files\\\\Common Files', 'COMPUTERNAME': 'DESKTOP-HAEN5TU', 'COMSPEC': 'C:\\\\Windows\\\\system32\\\\cmd.exe', 'CONDA_DEFAULT_ENV': 'test', 'CONDA_EXE': 'C:\\\\Users\\\\TJ\\\\anaconda3\\\\Scripts\\\\conda.exe', 'CONDA_PREFIX': 'C:\\\\Users\\\\TJ\\\\anaconda3\\\\envs\\\\test', 'CONDA_PROMPT_MODIFIER': '(test) ', 'CONDA_PYTHON_EXE': 'C:\\\\Users\\\\TJ\\\\anaconda3\\\\python.exe', 'CONDA_ROOT': 'C:\\\\Users\\\\TJ\\\\anaconda3', 'CONDA_SHLVL': '1', 'DRIVERDATA': 'C:\\\\Windows\\\\System32\\\\Drivers\\\\DriverData', 'ELECTRON_RUN_AS_NODE': '1', 'FPS_BROWSER_APP_PROFILE_STRING': 'Internet Explorer', 'FPS_BROWSER_USER_PROFILE_STRING': 'Default', 'HOMEDRIVE': 'C:', 'HOMEPATH': '\\\\Users\\\\TJ', 'JAVA_HOME': 'C:\\\\Program Files\\\\Eclipse Adoptium\\\\jdk-17.0.11.9-hotspot', 'JPY_INTERRUPT_EVENT': '1152', 'LOCALAPPDATA': 'C:\\\\Users\\\\TJ\\\\AppData\\\\Local', 'LOGONSERVER': '\\\\\\\\DESKTOP-HAEN5TU', 'NUMBER_OF_PROCESSORS': '4', 'ONEDRIVE': 'C:\\\\Users\\\\TJ\\\\OneDrive', 'ORIGINAL_XDG_CURRENT_DESKTOP': 'undefined', 'OS': 'Windows_NT', 'PATH': 'c:\\\\Users\\\\TJ\\\\anaconda3\\\\envs\\\\test;C:\\\\Users\\\\TJ\\\\anaconda3\\\\envs\\\\test;C:\\\\Users\\\\TJ\\\\anaconda3\\\\envs\\\\test\\\\Library\\\\mingw-w64\\\\bin;C:\\\\Users\\\\TJ\\\\anaconda3\\\\envs\\\\test\\\\Library\\\\usr\\\\bin;C:\\\\Users\\\\TJ\\\\anaconda3\\\\envs\\\\test\\\\Library\\\\bin;C:\\\\Users\\\\TJ\\\\anaconda3\\\\envs\\\\test\\\\Scripts;C:\\\\Users\\\\TJ\\\\anaconda3\\\\envs\\\\test\\\\bin;C:\\\\Users\\\\TJ\\\\anaconda3\\\\condabin;C:\\\\Program Files\\\\Eclipse Adoptium\\\\jdk-17.0.11.9-hotspot\\\\bin;C:\\\\oraclexe\\\\app\\\\oracle\\\\product\\\\11.2.0\\\\server\\\\bin;C:\\\\Windows\\\\system32;C:\\\\Windows;C:\\\\Windows\\\\System32\\\\Wbem;C:\\\\Windows\\\\System32\\\\WindowsPowerShell\\\\v1.0;C:\\\\Windows\\\\System32\\\\OpenSSH;C:\\\\Program Files\\\\Git\\\\cmd;C:\\\\Program Files\\\\Bandizip;C:\\\\Program Files\\\\Eclipse Adoptium\\\\jdk-17.0.11.9-hotspot\\\\bin;C:\\\\Users\\\\TJ\\\\anaconda3;C:\\\\Users\\\\TJ\\\\anaconda3\\\\Scripts;C:\\\\Users\\\\TJ\\\\anaconda3\\\\Library;C:\\\\Users\\\\TJ\\\\AppData\\\\Local\\\\Microsoft\\\\WindowsApps;C:\\\\Users\\\\TJ\\\\AppData\\\\Local\\\\Programs\\\\Microsoft VS Code\\\\bin', 'PATHEXT': '.COM;.EXE;.BAT;.CMD;.VBS;.VBE;.JS;.JSE;.WSF;.WSH;.MSC', 'PROCESSOR_ARCHITECTURE': 'AMD64', 'PROCESSOR_IDENTIFIER': 'Intel64 Family 6 Model 158 Stepping 9, GenuineIntel', 'PROCESSOR_LEVEL': '6', 'PROCESSOR_REVISION': '9e09', 'PROGRAMDATA': 'C:\\\\ProgramData', 'PROGRAMFILES': 'C:\\\\Program Files', 'PROGRAMFILES(X86)': 'C:\\\\Program Files (x86)', 'PROGRAMW6432': 'C:\\\\Program Files', 'PROMPT': '(test) $P$G', 'PSMODULEPATH': 'C:\\\\Program Files\\\\WindowsPowerShell\\\\Modules;C:\\\\Windows\\\\system32\\\\WindowsPowerShell\\\\v1.0\\\\Modules', 'PUBLIC': 'C:\\\\Users\\\\Public', 'PYDEVD_IPYTHON_COMPATIBLE_DEBUGGING': '1', 'PYTHONIOENCODING': 'utf-8', 'PYTHONUNBUFFERED': '1', 'PYTHONUTF8': '1', 'PYTHON_FROZEN_MODULES': 'on', 'SESSIONNAME': 'Console', 'SSL_CERT_FILE': 'C:\\\\Users\\\\TJ\\\\anaconda3\\\\envs\\\\test\\\\Library\\\\ssl\\\\cacert.pem', 'SYSTEMDRIVE': 'C:', 'SYSTEMROOT': 'C:\\\\Windows', 'TEMP': 'C:\\\\Users\\\\TJ\\\\AppData\\\\Local\\\\Temp', 'TMP': 'C:\\\\Users\\\\TJ\\\\AppData\\\\Local\\\\Temp', 'USERDOMAIN': 'DESKTOP-HAEN5TU', 'USERDOMAIN_ROAMINGPROFILE': 'DESKTOP-HAEN5TU', 'USERNAME': 'TJ', 'USERPROFILE': 'C:\\\\Users\\\\TJ', 'VSCODE_AMD_ENTRYPOINT': 'vs/workbench/api/node/extensionHostProcess', 'VSCODE_CODE_CACHE_PATH': 'C:\\\\Users\\\\TJ\\\\AppData\\\\Roaming\\\\Code\\\\CachedData\\\\5437499feb04f7a586f677b155b039bc2b3669eb', 'VSCODE_CRASH_REPORTER_PROCESS_TYPE': 'extensionHost', 'VSCODE_CWD': 'C:\\\\Users\\\\TJ\\\\AppData\\\\Local\\\\Programs\\\\Microsoft VS Code', 'VSCODE_HANDLES_UNCAUGHT_ERRORS': 'true', 'VSCODE_IPC_HOOK': '\\\\\\\\.\\\\pipe\\\\75947f88-1.90.2-main-sock', 'VSCODE_L10N_BUNDLE_LOCATION': 'file:///c%3A/Users/TJ/.vscode/extensions/ms-ceintl.vscode-language-pack-ko-1.90.2024061209/translations/extensions/vscode.markdown-language-features.i18n.json', 'VSCODE_NLS_CONFIG': '{\"locale\":\"ko\",\"osLocale\":\"ko\",\"availableLanguages\":{\"*\":\"ko\"},\"_languagePackId\":\"4aa48df940c05d755dd9456f5680ba33.ko\",\"_translationsConfigFile\":\"C:\\\\\\\\Users\\\\\\\\TJ\\\\\\\\AppData\\\\\\\\Roaming\\\\\\\\Code\\\\\\\\clp\\\\\\\\4aa48df940c05d755dd9456f5680ba33.ko\\\\\\\\tcf.json\",\"_cacheRoot\":\"C:\\\\\\\\Users\\\\\\\\TJ\\\\\\\\AppData\\\\\\\\Roaming\\\\\\\\Code\\\\\\\\clp\\\\\\\\4aa48df940c05d755dd9456f5680ba33.ko\",\"_resolvedLanguagePackCoreLocation\":\"C:\\\\\\\\Users\\\\\\\\TJ\\\\\\\\AppData\\\\\\\\Roaming\\\\\\\\Code\\\\\\\\clp\\\\\\\\4aa48df940c05d755dd9456f5680ba33.ko\\\\\\\\5437499feb04f7a586f677b155b039bc2b3669eb\",\"_corruptedFile\":\"C:\\\\\\\\Users\\\\\\\\TJ\\\\\\\\AppData\\\\\\\\Roaming\\\\\\\\Code\\\\\\\\clp\\\\\\\\4aa48df940c05d755dd9456f5680ba33.ko\\\\\\\\corrupted.info\",\"_languagePackSupport\":true}', 'VSCODE_PID': '13968', 'WINDIR': 'C:\\\\Windows', '_CONDA_OLD_CHCP': '949', '__CONDA_OPENSLL_CERT_FILE_SET': '\"1\"', 'PYDEVD_USE_FRAME_EVAL': 'NO', 'TERM': 'xterm-color', 'CLICOLOR': '1', 'FORCE_COLOR': '1', 'CLICOLOR_FORCE': '1', 'PAGER': 'cat', 'GIT_PAGER': 'cat', 'MPLBACKEND': 'module://matplotlib_inline.backend_inline'})\n",
      "KeysView(environ({'ALLUSERSPROFILE': 'C:\\\\ProgramData', 'APPDATA': 'C:\\\\Users\\\\TJ\\\\AppData\\\\Roaming', 'APPLICATION_INSIGHTS_NO_DIAGNOSTIC_CHANNEL': '1', 'CHROME_CRASHPAD_PIPE_NAME': '\\\\\\\\.\\\\pipe\\\\crashpad_13968_IBICJSORCBRMJTQT', 'COMMONPROGRAMFILES': 'C:\\\\Program Files\\\\Common Files', 'COMMONPROGRAMFILES(X86)': 'C:\\\\Program Files (x86)\\\\Common Files', 'COMMONPROGRAMW6432': 'C:\\\\Program Files\\\\Common Files', 'COMPUTERNAME': 'DESKTOP-HAEN5TU', 'COMSPEC': 'C:\\\\Windows\\\\system32\\\\cmd.exe', 'CONDA_DEFAULT_ENV': 'test', 'CONDA_EXE': 'C:\\\\Users\\\\TJ\\\\anaconda3\\\\Scripts\\\\conda.exe', 'CONDA_PREFIX': 'C:\\\\Users\\\\TJ\\\\anaconda3\\\\envs\\\\test', 'CONDA_PROMPT_MODIFIER': '(test) ', 'CONDA_PYTHON_EXE': 'C:\\\\Users\\\\TJ\\\\anaconda3\\\\python.exe', 'CONDA_ROOT': 'C:\\\\Users\\\\TJ\\\\anaconda3', 'CONDA_SHLVL': '1', 'DRIVERDATA': 'C:\\\\Windows\\\\System32\\\\Drivers\\\\DriverData', 'ELECTRON_RUN_AS_NODE': '1', 'FPS_BROWSER_APP_PROFILE_STRING': 'Internet Explorer', 'FPS_BROWSER_USER_PROFILE_STRING': 'Default', 'HOMEDRIVE': 'C:', 'HOMEPATH': '\\\\Users\\\\TJ', 'JAVA_HOME': 'C:\\\\Program Files\\\\Eclipse Adoptium\\\\jdk-17.0.11.9-hotspot', 'JPY_INTERRUPT_EVENT': '1152', 'LOCALAPPDATA': 'C:\\\\Users\\\\TJ\\\\AppData\\\\Local', 'LOGONSERVER': '\\\\\\\\DESKTOP-HAEN5TU', 'NUMBER_OF_PROCESSORS': '4', 'ONEDRIVE': 'C:\\\\Users\\\\TJ\\\\OneDrive', 'ORIGINAL_XDG_CURRENT_DESKTOP': 'undefined', 'OS': 'Windows_NT', 'PATH': 'c:\\\\Users\\\\TJ\\\\anaconda3\\\\envs\\\\test;C:\\\\Users\\\\TJ\\\\anaconda3\\\\envs\\\\test;C:\\\\Users\\\\TJ\\\\anaconda3\\\\envs\\\\test\\\\Library\\\\mingw-w64\\\\bin;C:\\\\Users\\\\TJ\\\\anaconda3\\\\envs\\\\test\\\\Library\\\\usr\\\\bin;C:\\\\Users\\\\TJ\\\\anaconda3\\\\envs\\\\test\\\\Library\\\\bin;C:\\\\Users\\\\TJ\\\\anaconda3\\\\envs\\\\test\\\\Scripts;C:\\\\Users\\\\TJ\\\\anaconda3\\\\envs\\\\test\\\\bin;C:\\\\Users\\\\TJ\\\\anaconda3\\\\condabin;C:\\\\Program Files\\\\Eclipse Adoptium\\\\jdk-17.0.11.9-hotspot\\\\bin;C:\\\\oraclexe\\\\app\\\\oracle\\\\product\\\\11.2.0\\\\server\\\\bin;C:\\\\Windows\\\\system32;C:\\\\Windows;C:\\\\Windows\\\\System32\\\\Wbem;C:\\\\Windows\\\\System32\\\\WindowsPowerShell\\\\v1.0;C:\\\\Windows\\\\System32\\\\OpenSSH;C:\\\\Program Files\\\\Git\\\\cmd;C:\\\\Program Files\\\\Bandizip;C:\\\\Program Files\\\\Eclipse Adoptium\\\\jdk-17.0.11.9-hotspot\\\\bin;C:\\\\Users\\\\TJ\\\\anaconda3;C:\\\\Users\\\\TJ\\\\anaconda3\\\\Scripts;C:\\\\Users\\\\TJ\\\\anaconda3\\\\Library;C:\\\\Users\\\\TJ\\\\AppData\\\\Local\\\\Microsoft\\\\WindowsApps;C:\\\\Users\\\\TJ\\\\AppData\\\\Local\\\\Programs\\\\Microsoft VS Code\\\\bin', 'PATHEXT': '.COM;.EXE;.BAT;.CMD;.VBS;.VBE;.JS;.JSE;.WSF;.WSH;.MSC', 'PROCESSOR_ARCHITECTURE': 'AMD64', 'PROCESSOR_IDENTIFIER': 'Intel64 Family 6 Model 158 Stepping 9, GenuineIntel', 'PROCESSOR_LEVEL': '6', 'PROCESSOR_REVISION': '9e09', 'PROGRAMDATA': 'C:\\\\ProgramData', 'PROGRAMFILES': 'C:\\\\Program Files', 'PROGRAMFILES(X86)': 'C:\\\\Program Files (x86)', 'PROGRAMW6432': 'C:\\\\Program Files', 'PROMPT': '(test) $P$G', 'PSMODULEPATH': 'C:\\\\Program Files\\\\WindowsPowerShell\\\\Modules;C:\\\\Windows\\\\system32\\\\WindowsPowerShell\\\\v1.0\\\\Modules', 'PUBLIC': 'C:\\\\Users\\\\Public', 'PYDEVD_IPYTHON_COMPATIBLE_DEBUGGING': '1', 'PYTHONIOENCODING': 'utf-8', 'PYTHONUNBUFFERED': '1', 'PYTHONUTF8': '1', 'PYTHON_FROZEN_MODULES': 'on', 'SESSIONNAME': 'Console', 'SSL_CERT_FILE': 'C:\\\\Users\\\\TJ\\\\anaconda3\\\\envs\\\\test\\\\Library\\\\ssl\\\\cacert.pem', 'SYSTEMDRIVE': 'C:', 'SYSTEMROOT': 'C:\\\\Windows', 'TEMP': 'C:\\\\Users\\\\TJ\\\\AppData\\\\Local\\\\Temp', 'TMP': 'C:\\\\Users\\\\TJ\\\\AppData\\\\Local\\\\Temp', 'USERDOMAIN': 'DESKTOP-HAEN5TU', 'USERDOMAIN_ROAMINGPROFILE': 'DESKTOP-HAEN5TU', 'USERNAME': 'TJ', 'USERPROFILE': 'C:\\\\Users\\\\TJ', 'VSCODE_AMD_ENTRYPOINT': 'vs/workbench/api/node/extensionHostProcess', 'VSCODE_CODE_CACHE_PATH': 'C:\\\\Users\\\\TJ\\\\AppData\\\\Roaming\\\\Code\\\\CachedData\\\\5437499feb04f7a586f677b155b039bc2b3669eb', 'VSCODE_CRASH_REPORTER_PROCESS_TYPE': 'extensionHost', 'VSCODE_CWD': 'C:\\\\Users\\\\TJ\\\\AppData\\\\Local\\\\Programs\\\\Microsoft VS Code', 'VSCODE_HANDLES_UNCAUGHT_ERRORS': 'true', 'VSCODE_IPC_HOOK': '\\\\\\\\.\\\\pipe\\\\75947f88-1.90.2-main-sock', 'VSCODE_L10N_BUNDLE_LOCATION': 'file:///c%3A/Users/TJ/.vscode/extensions/ms-ceintl.vscode-language-pack-ko-1.90.2024061209/translations/extensions/vscode.markdown-language-features.i18n.json', 'VSCODE_NLS_CONFIG': '{\"locale\":\"ko\",\"osLocale\":\"ko\",\"availableLanguages\":{\"*\":\"ko\"},\"_languagePackId\":\"4aa48df940c05d755dd9456f5680ba33.ko\",\"_translationsConfigFile\":\"C:\\\\\\\\Users\\\\\\\\TJ\\\\\\\\AppData\\\\\\\\Roaming\\\\\\\\Code\\\\\\\\clp\\\\\\\\4aa48df940c05d755dd9456f5680ba33.ko\\\\\\\\tcf.json\",\"_cacheRoot\":\"C:\\\\\\\\Users\\\\\\\\TJ\\\\\\\\AppData\\\\\\\\Roaming\\\\\\\\Code\\\\\\\\clp\\\\\\\\4aa48df940c05d755dd9456f5680ba33.ko\",\"_resolvedLanguagePackCoreLocation\":\"C:\\\\\\\\Users\\\\\\\\TJ\\\\\\\\AppData\\\\\\\\Roaming\\\\\\\\Code\\\\\\\\clp\\\\\\\\4aa48df940c05d755dd9456f5680ba33.ko\\\\\\\\5437499feb04f7a586f677b155b039bc2b3669eb\",\"_corruptedFile\":\"C:\\\\\\\\Users\\\\\\\\TJ\\\\\\\\AppData\\\\\\\\Roaming\\\\\\\\Code\\\\\\\\clp\\\\\\\\4aa48df940c05d755dd9456f5680ba33.ko\\\\\\\\corrupted.info\",\"_languagePackSupport\":true}', 'VSCODE_PID': '13968', 'WINDIR': 'C:\\\\Windows', '_CONDA_OLD_CHCP': '949', '__CONDA_OPENSLL_CERT_FILE_SET': '\"1\"', 'PYDEVD_USE_FRAME_EVAL': 'NO', 'TERM': 'xterm-color', 'CLICOLOR': '1', 'FORCE_COLOR': '1', 'CLICOLOR_FORCE': '1', 'PAGER': 'cat', 'GIT_PAGER': 'cat', 'MPLBACKEND': 'module://matplotlib_inline.backend_inline'}))\n"
     ]
    }
   ],
   "source": [
    "# os 모듈 사용\n",
    "import os\n",
    "\n",
    "print(os.environ)\n",
    "print(os.environ.keys())"
   ]
  },
  {
   "cell_type": "code",
   "execution_count": 11,
   "metadata": {},
   "outputs": [
    {
     "name": "stdout",
     "output_type": "stream",
     "text": [
      "c:\\big18\\python\\ch05\n",
      "c:\\big18\\python\n"
     ]
    }
   ],
   "source": [
    "# 현재 작업 디렉토리 확인 및 변경 \n",
    "print(os.getcwd()) # 확인\n",
    "os.chdir('../') # 상위 디렉토리로 작업 디렉토리 변경\n",
    "print(os.getcwd())\n"
   ]
  },
  {
   "cell_type": "code",
   "execution_count": 12,
   "metadata": {},
   "outputs": [
    {
     "data": {
      "text/plain": [
       "0"
      ]
     },
     "execution_count": 12,
     "metadata": {},
     "output_type": "execute_result"
    }
   ],
   "source": [
    "# 명령어 호출 : os.system(명령어)\n",
    "os.system('dir')"
   ]
  },
  {
   "cell_type": "code",
   "execution_count": 1,
   "metadata": {},
   "outputs": [
    {
     "data": {
      "text/plain": [
       "'dst.data'"
      ]
     },
     "execution_count": 1,
     "metadata": {},
     "output_type": "execute_result"
    }
   ],
   "source": [
    "# 파일 복사 : shutil\n",
    "import shutil\n",
    "\n",
    "# os.chdir('./ch05')\n",
    "# print(os.getcwd())\n",
    "shutil.copy('test.data','dst.data')"
   ]
  },
  {
   "cell_type": "code",
   "execution_count": 3,
   "metadata": {},
   "outputs": [
    {
     "name": "stdout",
     "output_type": "stream",
     "text": [
      "1719454835.2284436\n"
     ]
    }
   ],
   "source": [
    "#(외부모듈)time module\n",
    "import time\n",
    "print(time.time())"
   ]
  },
  {
   "cell_type": "code",
   "execution_count": 8,
   "metadata": {},
   "outputs": [
    {
     "name": "stdout",
     "output_type": "stream",
     "text": [
      "time.struct_time(tm_year=2024, tm_mon=6, tm_mday=27, tm_hour=11, tm_min=25, tm_sec=1, tm_wday=3, tm_yday=179, tm_isdst=0)\n",
      "time.struct_time(tm_year=2024, tm_mon=6, tm_mday=27, tm_hour=11, tm_min=25, tm_sec=1, tm_wday=3, tm_yday=179, tm_isdst=0)\n",
      "2024\n"
     ]
    }
   ],
   "source": [
    "# localtime()\n",
    "print(time.localtime(time.time()))\n",
    "print(time.localtime())\n",
    "ct = time.localtime()\n",
    "print(ct.tm_year)"
   ]
  },
  {
   "cell_type": "code",
   "execution_count": 15,
   "metadata": {},
   "outputs": [
    {
     "data": {
      "text/plain": [
       "'2024-06-27 11:28:54'"
      ]
     },
     "execution_count": 15,
     "metadata": {},
     "output_type": "execute_result"
    }
   ],
   "source": [
    "# strftime(형식, 날짜시간 object)\n",
    "struct_time = time.localtime()\n",
    "time.strftime('%Y-%m-%d %H:%M:%S',struct_time)"
   ]
  },
  {
   "cell_type": "code",
   "execution_count": 18,
   "metadata": {},
   "outputs": [
    {
     "name": "stdout",
     "output_type": "stream",
     "text": [
      "<class 'time.struct_time'>\n",
      "time.struct_time(tm_year=2024, tm_mon=10, tm_mday=11, tm_hour=18, tm_min=30, tm_sec=0, tm_wday=4, tm_yday=285, tm_isdst=-1)\n"
     ]
    }
   ],
   "source": [
    "# 특정 날짜와 시간을 다루는 object 생성\n",
    "time_string = '2024-10-11 18:30:00'\n",
    "formatted_time = time.strptime(time_string, '%Y-%m-%d %H:%M:%S')\n",
    "print(type(formatted_time))\n",
    "print(formatted_time)"
   ]
  },
  {
   "cell_type": "code",
   "execution_count": 22,
   "metadata": {},
   "outputs": [
    {
     "name": "stdout",
     "output_type": "stream",
     "text": [
      "1\n",
      "2\n",
      "3\n",
      "4\n",
      "5\n",
      "6\n",
      "7\n",
      "8\n",
      "9\n",
      "10\n"
     ]
    }
   ],
   "source": [
    "# 시간 측정\n",
    "import time\n",
    "start = time.perf_counter()\n",
    "for i in range(1,11):\n",
    "    print(i)\n",
    "    time.sleep(1)\n",
    "    "
   ]
  },
  {
   "cell_type": "code",
   "execution_count": 25,
   "metadata": {},
   "outputs": [
    {
     "name": "stdout",
     "output_type": "stream",
     "text": [
      "00:20\n",
      "00:19\n",
      "00:18\n",
      "00:17\n",
      "00:16\n",
      "00:15\n",
      "00:14\n",
      "00:13\n",
      "00:12\n",
      "00:11\n",
      "00:10\n",
      "00:09\n",
      "00:08\n",
      "00:07\n",
      "00:06\n",
      "00:05\n",
      "00:04\n",
      "00:03\n",
      "00:02\n",
      "00:01\n"
     ]
    }
   ],
   "source": [
    "# 간단한 타이머 구현\n",
    "import time\n",
    "\n",
    "def count_timer(seconds):\n",
    "    while seconds:\n",
    "        mins, secs = divmod(seconds,60)\n",
    "        print(f'{mins:02d}:{secs:02d}')\n",
    "        time.sleep(1)\n",
    "        seconds -=1\n",
    "        \n",
    "count_timer(20)"
   ]
  },
  {
   "cell_type": "code",
   "execution_count": 30,
   "metadata": {},
   "outputs": [
    {
     "name": "stdout",
     "output_type": "stream",
     "text": [
      "<calendar.Calendar object at 0x000002100E358040>\n"
     ]
    }
   ],
   "source": [
    "# calender\n",
    "import calendar\n",
    "\n",
    "print(calendar.Calendar('2024'))"
   ]
  },
  {
   "cell_type": "code",
   "execution_count": 32,
   "metadata": {},
   "outputs": [
    {
     "name": "stdout",
     "output_type": "stream",
     "text": [
      "3\n"
     ]
    }
   ],
   "source": [
    "print(calendar.weekday(2024,6,27)) # 월부터 요일 출력"
   ]
  },
  {
   "cell_type": "code",
   "execution_count": 35,
   "metadata": {},
   "outputs": [
    {
     "name": "stdout",
     "output_type": "stream",
     "text": [
      "(5, 30)\n"
     ]
    }
   ],
   "source": [
    "print(calendar.monthrange(2024,6))"
   ]
  },
  {
   "cell_type": "code",
   "execution_count": 36,
   "metadata": {},
   "outputs": [],
   "source": [
    "# datetime\n",
    "# 주요 클래스\n",
    "# date : 날짜를 처리하기 위한 클래스\n",
    "# time : 시간을 처리하기 위한 클래스\n",
    "# datetime : 날짜, 시간을 처리하기 위한 클래스\n",
    "# timedelta : 날짜,. 시간의 차이 처리하기 위한 클래스\n",
    "# tzinfo :  시간대 정보를 처리하기 위한 클래스\n",
    "# 클래스별 주요 속성과 메소드\n",
    "\n",
    "\n"
   ]
  },
  {
   "cell_type": "code",
   "execution_count": 41,
   "metadata": {},
   "outputs": [
    {
     "name": "stdout",
     "output_type": "stream",
     "text": [
      "2024-06-27\n",
      "<class 'datetime.date'>\n",
      "2024-10-11\n"
     ]
    }
   ],
   "source": [
    "# 1. date \n",
    "    # 생성자 : date(year, month, day)\n",
    "    # 속성 : year, month, day\n",
    "    # 메소드 : today(), strftime(), replace()\n",
    "# import datetime\n",
    "from datetime import date\n",
    "\n",
    "# 오늘 날짜 처리\n",
    "today = date.today()\n",
    "print(today)\n",
    "\n",
    "# 특정 날짜 처리\n",
    "specific_date = date(2024,10,11)\n",
    "print(type(specific_date))\n",
    "print(specific_date)"
   ]
  },
  {
   "cell_type": "code",
   "execution_count": 44,
   "metadata": {},
   "outputs": [
    {
     "name": "stdout",
     "output_type": "stream",
     "text": [
      "12:23:30\n"
     ]
    }
   ],
   "source": [
    "# 시간 처리\n",
    "# 생성 : time(hour=0, minute=0, second=0, microsecond=0, tzinfo=None, *, fold=0)\n",
    "# 속성 : hour, minute, second, microsecond\n",
    "# 메소드 : strftime(), replace()\n",
    "from datetime import time # time class\n",
    "s_time = time(12,23,30)\n",
    "print(s_time)"
   ]
  },
  {
   "cell_type": "code",
   "execution_count": 3,
   "metadata": {},
   "outputs": [
    {
     "name": "stdout",
     "output_type": "stream",
     "text": [
      "2024-06-27 13:48:08.857483\n",
      "2024-06-27 13:48:08.858481\n",
      "2024-10-11 18:30:00\n",
      "2024-10-11 00:00:00\n"
     ]
    }
   ],
   "source": [
    "# detetime class\n",
    "# 생성 : datetime(year, month, day, hour=0, minute=0, second=0, microseconde=0,)\n",
    "# year, month, day <= 필요 입력\n",
    "# 속성 : year, month, day, hour, minute, second, microseconde\n",
    "# 메소드 : now(), today(), strptime(), strftime(), replace()\n",
    "from datetime import datetime\n",
    "\n",
    "# 현재 날짜 시간\n",
    "now = datetime.now()\n",
    "print(now)\n",
    "today = datetime.today()\n",
    "print(today)\n",
    "\n",
    "# 특정 날자 시간 처리\n",
    "s_datetime = datetime(2024,10,11,18,30,00)\n",
    "print(s_datetime)\n",
    "s1_datetime = datetime(2024,10,11)\n",
    "print(s1_datetime)"
   ]
  },
  {
   "cell_type": "code",
   "execution_count": 5,
   "metadata": {},
   "outputs": [
    {
     "name": "stdout",
     "output_type": "stream",
     "text": [
      "2024-06-27 13:52:52.700553\n",
      "2024-10-05 13:52:52.700553\n"
     ]
    }
   ],
   "source": [
    "from datetime import datetime, timedelta\n",
    "\n",
    "now = datetime.now()\n",
    "print(now)\n",
    "\n",
    "now100 = now + timedelta(days=100)\n",
    "print(now100)"
   ]
  },
  {
   "cell_type": "code",
   "execution_count": 10,
   "metadata": {},
   "outputs": [
    {
     "name": "stdout",
     "output_type": "stream",
     "text": [
      "2024-06-27 13:52:52\n",
      "2024-06-27 14:06:07.109711\n",
      "2024-06-27\n"
     ]
    }
   ],
   "source": [
    "date_str = '2024-06-27 13:52:52'\n",
    "date_obj = datetime.strptime(date_str, '%Y-%m-%d %H:%M:%S')\n",
    "print(date_obj)\n",
    "\n",
    "# strftime : datetime object\n",
    "now = datetime.now()\n",
    "print(now)\n",
    "s_date = now.strftime('%Y-%m-%d')\n",
    "print(s_date)"
   ]
  },
  {
   "cell_type": "code",
   "execution_count": 17,
   "metadata": {},
   "outputs": [
    {
     "name": "stdout",
     "output_type": "stream",
     "text": [
      "5\n",
      "2\n",
      "4\n",
      "3\n",
      "1\n"
     ]
    }
   ],
   "source": [
    "# random module\n",
    "import random\n",
    "\n",
    "def random_pop(list_): # list_ <= data = [1,2,3,4,5]\n",
    "    idx = random.randint(0, len(list_)-1)\n",
    "    print(list_.pop(idx))\n",
    "        \n",
    "data = [1,2,3,4,5]\n",
    "\n",
    "while data:\n",
    "    random_pop(data)\n"
   ]
  },
  {
   "cell_type": "code",
   "execution_count": 19,
   "metadata": {},
   "outputs": [
    {
     "name": "stdout",
     "output_type": "stream",
     "text": [
      "[3, 1, 4, 5, 2]\n"
     ]
    }
   ],
   "source": [
    "data = [1,2,3,4,5]\n",
    "random.shuffle(data)\n",
    "print(data)"
   ]
  },
  {
   "cell_type": "code",
   "execution_count": 120,
   "metadata": {},
   "outputs": [
    {
     "name": "stdout",
     "output_type": "stream",
     "text": [
      "4\n",
      "4\n",
      "5\n",
      "5\n",
      "3\n"
     ]
    }
   ],
   "source": [
    "def random_choice(list_):\n",
    "    number = random.choice(list_)\n",
    "    return number\n",
    "\n",
    "data = [1,2,3,4,5]\n",
    "for _ in range(5):\n",
    "    print(random_choice(data))\n"
   ]
  },
  {
   "cell_type": "code",
   "execution_count": 122,
   "metadata": {},
   "outputs": [
    {
     "name": "stdout",
     "output_type": "stream",
     "text": [
      "7\n"
     ]
    }
   ],
   "source": [
    "# randrange(start,stop,step)\n",
    "print(random.randrange(1,10,2))"
   ]
  },
  {
   "cell_type": "code",
   "execution_count": 126,
   "metadata": {},
   "outputs": [
    {
     "name": "stdout",
     "output_type": "stream",
     "text": [
      "['apple', '77']\n"
     ]
    }
   ],
   "source": [
    "# choices : choices(모집단, weights=None, *, cum_weights=None, k =1 )\n",
    "datas = ['apple', 'banana','cherry','7','77','777']\n",
    "print(random.choices(datas,weights=[6,5,4,3,2,1],k=2))"
   ]
  },
  {
   "cell_type": "code",
   "execution_count": 148,
   "metadata": {},
   "outputs": [
    {
     "name": "stdout",
     "output_type": "stream",
     "text": [
      "['777', 'apple']\n"
     ]
    }
   ],
   "source": [
    "datas = ['apple', 'banana','cherry','7','77','777']\n",
    "print(random.sample(datas,2))"
   ]
  },
  {
   "cell_type": "code",
   "execution_count": 150,
   "metadata": {},
   "outputs": [
    {
     "name": "stdout",
     "output_type": "stream",
     "text": [
      "19911.19099826875\n"
     ]
    }
   ],
   "source": [
    "# random.uniform(a,b) : a~b 사이의 실수형태의 난수 반환\n",
    "# uniform : 균등 분포\n",
    "# random data 생성 사용\n",
    "# 종목 : 최소값, 최대갑\n",
    "max_ = 20000\n",
    "min_ = 18000\n",
    "print(random.uniform(min_,max_))"
   ]
  },
  {
   "cell_type": "code",
   "execution_count": 158,
   "metadata": {},
   "outputs": [
    {
     "name": "stdout",
     "output_type": "stream",
     "text": [
      "100000\n"
     ]
    },
    {
     "data": {
      "image/png": "[encoded data removed]",
      "text/plain": [
       "<Figure size 640x480 with 1 Axes>"
      ]
     },
     "metadata": {},
     "output_type": "display_data"
    }
   ],
   "source": [
    "# uniform\n",
    "import random\n",
    "import matplotlib.pyplot as plt\n",
    "\n",
    "a = 0\n",
    "b = 1\n",
    "sample = [random.uniform(a,b) for _ in range(100000)]\n",
    "print(len(sample))\n",
    "\n",
    "plt.hist(sample, bins=50, edgecolor='black')\n",
    "plt.show()"
   ]
  },
  {
   "cell_type": "code",
   "execution_count": 161,
   "metadata": {},
   "outputs": [
    {
     "name": "stdout",
     "output_type": "stream",
     "text": [
      "2\n"
     ]
    }
   ],
   "source": [
    "#seed\n",
    "random.seed(42)\n",
    "print(random.randint(1,10))"
   ]
  },
  {
   "cell_type": "code",
   "execution_count": 162,
   "metadata": {},
   "outputs": [
    {
     "data": {
      "text/plain": [
       "True"
      ]
     },
     "execution_count": 162,
     "metadata": {},
     "output_type": "execute_result"
    }
   ],
   "source": [
    "import webbrowser\n",
    "webbrowser.open('https://www.naver.com')\n"
   ]
  },
  {
   "cell_type": "code",
   "execution_count": 163,
   "metadata": {},
   "outputs": [
    {
     "name": "stdout",
     "output_type": "stream",
     "text": [
      "you\n",
      "need\n",
      "python\n",
      "0\n",
      "1\n",
      "2\n",
      "3\n",
      "4\n",
      "5\n",
      "6\n",
      "7\n",
      "8\n",
      "9\n",
      "python\n",
      "need\n",
      "you\n",
      "10\n",
      "11\n",
      "12\n",
      "13\n",
      "14\n",
      "15\n",
      "16\n",
      "17\n",
      "18\n",
      "you\n",
      "need\n",
      "python\n",
      "19\n",
      "20\n",
      "21\n",
      "22\n",
      "23\n",
      "24\n",
      "25\n",
      "26\n",
      "27\n",
      "python\n",
      "need\n",
      "you\n",
      "28\n",
      "29\n",
      "30\n",
      "31\n",
      "32\n",
      "33\n",
      "34\n",
      "35\n",
      "36\n",
      "you\n",
      "python\n",
      "need\n",
      "37\n",
      "38\n",
      "39\n",
      "40\n",
      "41\n",
      "42\n",
      "43\n",
      "44\n",
      "45\n",
      "you\n",
      "need\n",
      "python\n",
      "46\n",
      "47\n",
      "48\n",
      "49\n",
      "50\n",
      "51\n",
      "52\n",
      "53\n",
      "54\n",
      "you\n",
      "python\n",
      "need\n",
      "55\n",
      "56\n",
      "57\n",
      "58\n",
      "59\n",
      "60\n",
      "61\n",
      "62\n",
      "63\n",
      "64\n",
      "need\n",
      "you\n",
      "python\n",
      "65\n",
      "66\n",
      "67\n",
      "68\n",
      "69\n",
      "70\n",
      "71\n",
      "72\n",
      "73\n",
      "you\n",
      "python\n",
      "need\n",
      "74\n",
      "75\n",
      "76\n",
      "77\n",
      "78\n",
      "79\n",
      "80\n",
      "81\n",
      "82\n",
      "you\n",
      "python\n",
      "need\n",
      "83\n",
      "84\n",
      "85\n",
      "86\n",
      "87\n",
      "88\n",
      "89\n",
      "90\n",
      "91\n",
      "you\n",
      "need\n",
      "python\n",
      "92\n",
      "93\n",
      "94\n",
      "95\n",
      "96\n",
      "97\n",
      "98\n",
      "99\n"
     ]
    },
    {
     "name": "stdout",
     "output_type": "stream",
     "text": [
      "you\n",
      "python\n",
      "need\n",
      "you\n",
      "need\n",
      "python\n",
      "you\n",
      "need\n",
      "python\n",
      "you\n",
      "need\n",
      "python\n",
      "you\n",
      "python\n",
      "need\n",
      "you\n",
      "need\n",
      "python\n",
      "you\n",
      "python\n",
      "need\n",
      "you\n",
      "need\n",
      "python\n",
      "you\n",
      "python\n",
      "need\n",
      "you\n",
      "need\n",
      "python\n",
      "you\n",
      "python\n",
      "need\n",
      "you\n",
      "need\n",
      "python\n",
      "you\n",
      "python\n",
      "need\n",
      "you\n",
      "need\n",
      "python\n",
      "you\n",
      "python\n",
      "need\n",
      "you\n",
      "need\n",
      "python\n",
      "you\n",
      "python\n",
      "need\n",
      "you\n",
      "python\n",
      "need\n",
      "you\n",
      "python\n",
      "need\n",
      "you\n",
      "python\n",
      "need\n",
      "you\n",
      "python\n",
      "need\n",
      "you\n",
      "python\n",
      "need\n",
      "you\n",
      "python\n",
      "need\n",
      "you\n",
      "python\n",
      "need\n",
      "you\n",
      "python\n",
      "need\n",
      "you\n",
      "python\n",
      "need\n",
      "you\n",
      "python\n",
      "need\n",
      "you\n",
      "python\n",
      "need\n",
      "you\n",
      "python\n",
      "need\n",
      "you\n",
      "python\n",
      "need\n",
      "you\n",
      "python\n",
      "need\n",
      "you\n",
      "python\n",
      "need\n",
      "you\n",
      "python\n",
      "need\n",
      "you\n",
      "python\n",
      "need\n",
      "you\n",
      "python\n",
      "need\n",
      "you\n",
      "python\n",
      "need\n",
      "you\n",
      "python\n",
      "need\n",
      "you\n",
      "python\n",
      "need\n",
      "you\n",
      "python\n",
      "need\n",
      "you\n",
      "python\n",
      "need\n",
      "you\n",
      "python\n",
      "need\n",
      "you\n",
      "python\n",
      "need\n",
      "you\n",
      "python\n",
      "need\n",
      "you\n",
      "python\n",
      "need\n",
      "you\n",
      "python\n",
      "need\n"
     ]
    }
   ],
   "source": [
    "import threading\n",
    "import time\n",
    "\n",
    "# 스레드로 실행될 함수 선언\n",
    "def say(msg):\n",
    "    while True:\n",
    "        print(msg)\n",
    "        time.sleep(1)\n",
    "\n",
    "# 3개\n",
    "for msg in ['you','need','python']:\n",
    "    t = threading.Thread(target=say, args=(msg,)) # 스레드 생성\n",
    "    t.daemon = True # main threed 주된 스레드, t 자식 스레드\n",
    "    t.start()\n",
    "    \n",
    "for i in range(100):\n",
    "    print(i)\n",
    "    time.sleep(0.1)"
   ]
  }
 ],
 "metadata": {
  "kernelspec": {
   "display_name": "test",
   "language": "python",
   "name": "python3"
  },
  "language_info": {
   "codemirror_mode": {
    "name": "ipython",
    "version": 3
   },
   "file_extension": ".py",
   "mimetype": "text/x-python",
   "name": "python",
   "nbconvert_exporter": "python",
   "pygments_lexer": "ipython3",
   "version": "3.10.14"
  }
 },
 "nbformat": 4,
 "nbformat_minor": 2
}
