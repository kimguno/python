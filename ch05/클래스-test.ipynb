{
 "cells": [
  {
   "cell_type": "code",
   "execution_count": 1,
   "metadata": {},
   "outputs": [],
   "source": [
    "# 클래스 선언\n",
    "# 파이썬은 동적 언어 : 실행중에 추가(변수, 메소드)\n",
    "class Programmer:\n",
    "    pass\n",
    "\n",
    "\n"
   ]
  },
  {
   "cell_type": "code",
   "execution_count": 2,
   "metadata": {},
   "outputs": [],
   "source": [
    "kim = Programmer() # object 생성\n",
    "park = Programmer() # object 생성"
   ]
  },
  {
   "cell_type": "code",
   "execution_count": 3,
   "metadata": {},
   "outputs": [],
   "source": [
    "# 이야기 형식으로 클래스 기초 쌓기\n",
    "# 클래스 소유의 변수 : 자바 => static variable\n",
    "class Service : # 인터넷 서비스 업체\n",
    "    secret = '영구는 외계인이다.' # static 변수 선언"
   ]
  },
  {
   "cell_type": "code",
   "execution_count": 8,
   "metadata": {},
   "outputs": [
    {
     "name": "stdout",
     "output_type": "stream",
     "text": [
      "영구는 외계인이다.\n",
      "영구는 외계인이다.\n",
      "영구는 외계인이다.\n"
     ]
    }
   ],
   "source": [
    "pey = Service()\n",
    "kim = Service()\n",
    "print(pey.secret)\n",
    "print(kim.secret)\n",
    "print(Service.secret)"
   ]
  },
  {
   "cell_type": "code",
   "execution_count": 15,
   "metadata": {},
   "outputs": [],
   "source": [
    "# 2. 메소드\n",
    "# summ* method 추가\n",
    "class Service:\n",
    "    secret = '영구는 외계인이다.' # static variable\n",
    "    \n",
    "    # def sum(a,b): # self 없는 메소드 static method => 클래스 메소드\n",
    "    #     result = a+b\n",
    "    #     print(f'{a} + {b} = {result}')\n",
    "    #     return None\n",
    "    \n",
    "    def sum(self,a,b): #self가 있는 메소드 : 멤버 메소드\n",
    "        result = a+b\n",
    "        print(f'{a} + {b} = {result}')\n",
    "        return None"
   ]
  },
  {
   "cell_type": "code",
   "execution_count": 1,
   "metadata": {},
   "outputs": [
    {
     "ename": "NameError",
     "evalue": "name 'Service' is not defined",
     "output_type": "error",
     "traceback": [
      "\u001b[1;31m---------------------------------------------------------------------------\u001b[0m",
      "\u001b[1;31mNameError\u001b[0m                                 Traceback (most recent call last)",
      "Cell \u001b[1;32mIn[1], line 1\u001b[0m\n\u001b[1;32m----> 1\u001b[0m pey \u001b[38;5;241m=\u001b[39m \u001b[43mService\u001b[49m()\n\u001b[0;32m      2\u001b[0m \u001b[38;5;28mprint\u001b[39m(pey\u001b[38;5;241m.\u001b[39msecret)\n\u001b[0;32m      3\u001b[0m \u001b[38;5;28mprint\u001b[39m(pey\u001b[38;5;241m.\u001b[39msum(\u001b[38;5;241m1\u001b[39m,\u001b[38;5;241m2\u001b[39m))\n",
      "\u001b[1;31mNameError\u001b[0m: name 'Service' is not defined"
     ]
    }
   ],
   "source": [
    "pey = Service()\n",
    "print(pey.secret)\n",
    "print(pey.sum(1,2))\n"
   ]
  },
  {
   "cell_type": "code",
   "execution_count": 3,
   "metadata": {},
   "outputs": [],
   "source": [
    "class Service:\n",
    "    secret = '영구는 외계인'\n",
    "    \n",
    "    def sum(self, a,b):\n",
    "        result = a + b\n",
    "        print(f'{a} + {b} = {result}')"
   ]
  },
  {
   "cell_type": "code",
   "execution_count": 7,
   "metadata": {},
   "outputs": [
    {
     "name": "stdout",
     "output_type": "stream",
     "text": [
      "1 + 1 = 2\n",
      "None\n",
      "1 + 2 = 3\n",
      "None\n",
      "1 + 2 = 3\n",
      "1 + 2 = 3\n"
     ]
    }
   ],
   "source": [
    "kim = Service()\n",
    "park = Service()\n",
    "\n",
    "print(kim.sum(1,1))\n",
    "print(park.sum(1,2))\n",
    "\n",
    "slist = [kim, park]\n",
    "\n",
    "for stu in slist:\n",
    "    Service.sum(stu,1,2)"
   ]
  },
  {
   "cell_type": "code",
   "execution_count": 12,
   "metadata": {},
   "outputs": [],
   "source": [
    "# 인스턴스 변수 사용\n",
    "class Service:\n",
    "    secret = '영구는 외계인'\n",
    "    \n",
    "    def __init__(self, name) -> None:\n",
    "        self.name = name\n",
    "    \n",
    "    # 이름 변경시 사용하는 메소드\n",
    "    def setName(self,name): # name : 파라미터(받는놈), 오브젝트에 소비자의 인름 설정 (초기 설정 필요)\n",
    "        self.name = name # 인스턴스 변수 생성\n",
    "        \n",
    "    def sum(self, a, b):\n",
    "        result = a + b \n",
    "        print(f'{self.name}님 {a} + {b} = {result}')"
   ]
  },
  {
   "cell_type": "code",
   "execution_count": 14,
   "metadata": {},
   "outputs": [
    {
     "name": "stdout",
     "output_type": "stream",
     "text": [
      "홍길동님 1 + 2 = 3\n",
      "None\n",
      "고길동님 2 + 3 = 5\n",
      "None\n"
     ]
    }
   ],
   "source": [
    "kim = Service('홍길동')\n",
    "print(kim.sum(1,2))\n",
    "\n",
    "go = Service('고길동')\n",
    "print(go.sum(2,3))"
   ]
  },
  {
   "cell_type": "code",
   "execution_count": 33,
   "metadata": {},
   "outputs": [],
   "source": [
    "class HousePark:\n",
    "    #  성은 공유 : 클래스변수 선언\n",
    "    lastName = '박'\n",
    "    def __init__(self, name) -> None:\n",
    "        self.fullName = self.lastName + name\n",
    "    \n",
    "    # 이름(인스턴스변수) 지정 메소드\n",
    "    # HousePark.lastName, pey.lastName => self.lastName\n",
    "    def setName(self, name):\n",
    "        self.firstName = name\n",
    "        self.fullName = HousePark.lastName + name\n",
    "    \n",
    "    def travel(self, where):\n",
    "        print(f'{self.fullName}, {where} 여행을 가다')"
   ]
  },
  {
   "cell_type": "code",
   "execution_count": 21,
   "metadata": {},
   "outputs": [
    {
     "name": "stdout",
     "output_type": "stream",
     "text": [
      "박찬호, 영국 여행을 가다\n"
     ]
    }
   ],
   "source": [
    "pey = HousePark()\n",
    "pey.setName('찬호')\n",
    "pey.travel('영국')"
   ]
  },
  {
   "cell_type": "code",
   "execution_count": 22,
   "metadata": {},
   "outputs": [
    {
     "name": "stdout",
     "output_type": "stream",
     "text": [
      "페이\n",
      "박페이\n",
      "박\n"
     ]
    }
   ],
   "source": [
    "pey = HousePark()\n",
    "pey.setName('페이')\n",
    "print(pey.firstName)\n",
    "print(pey.fullName)\n",
    "chanho = HousePark()\n",
    "print(chanho.lastName)"
   ]
  },
  {
   "cell_type": "code",
   "execution_count": 34,
   "metadata": {},
   "outputs": [],
   "source": [
    "# 상속해서 김씨네 생성\n",
    "class HouseKim(HousePark):\n",
    "    pass\n",
    "    # #  성은 공유 : 클래스변수 선언\n",
    "    # lastName = '박'\n",
    "    lastName = '김'\n",
    "    \n",
    "    # # 이름(인스턴스변수) 지정 메소드\n",
    "    # # HousePark.lastName, pey.lastName => self.lastName\n",
    "    # def setName(self, name):\n",
    "    #     self.firstName = name\n",
    "    #     self.fullName = HousePark.lastName + name\n",
    "    \n",
    "    # def travel(self, where):\n",
    "    #     print(f'{self.fullName}, {where} 여행을 가다')"
   ]
  },
  {
   "cell_type": "code",
   "execution_count": 35,
   "metadata": {},
   "outputs": [
    {
     "name": "stdout",
     "output_type": "stream",
     "text": [
      "김줄리엣, 울릉도 여행을 가다\n"
     ]
    }
   ],
   "source": [
    "juliet = HouseKim('줄리엣')\n",
    "juliet.travel('울릉도')"
   ]
  },
  {
   "cell_type": "code",
   "execution_count": 40,
   "metadata": {},
   "outputs": [],
   "source": [
    "# 연산자 오버로딩 => + : 더하기 \n",
    "class HousePark():\n",
    "    lastName= '박'\n",
    "    \n",
    "    def __init__(self, name) -> None:\n",
    "        self.fullName = self.lastName + name\n",
    "        \n",
    "    def travle(self, where):\n",
    "        print(f'{self.fullName}, {where} 여행을 가다')\n",
    "        \n",
    "    def __add__(self, other):\n",
    "        print(f'{self.fullName}, {other.fullName} 결혼했네')\n",
    "        \n",
    "    def __sub__(self, other):\n",
    "        print(f'{self.fullName}, {other.fullName} 헤어졌네')"
   ]
  },
  {
   "cell_type": "code",
   "execution_count": 41,
   "metadata": {},
   "outputs": [
    {
     "name": "stdout",
     "output_type": "stream",
     "text": [
      "박찬호, 김줄리엣 결혼했네\n",
      "박찬호, 김줄리엣 헤어졌네\n"
     ]
    }
   ],
   "source": [
    "pey = HousePark('찬호')\n",
    "juliet = HouseKim('줄리엣')\n",
    "pey + juliet\n",
    "pey - juliet\n"
   ]
  },
  {
   "cell_type": "code",
   "execution_count": null,
   "metadata": {},
   "outputs": [],
   "source": [
    "# 15720072171"
   ]
  }
 ],
 "metadata": {
  "kernelspec": {
   "display_name": "test",
   "language": "python",
   "name": "python3"
  },
  "language_info": {
   "codemirror_mode": {
    "name": "ipython",
    "version": 3
   },
   "file_extension": ".py",
   "mimetype": "text/x-python",
   "name": "python",
   "nbconvert_exporter": "python",
   "pygments_lexer": "ipython3",
   "version": "3.10.14"
  }
 },
 "nbformat": 4,
 "nbformat_minor": 2
}
